{
 "cells": [
  {
   "cell_type": "code",
   "execution_count": 1,
   "id": "f0c2d2ce",
   "metadata": {},
   "outputs": [],
   "source": [
    "from sklearn.datasets import load_iris\n",
    "import pandas as pd"
   ]
  },
  {
   "cell_type": "markdown",
   "id": "4af1428d",
   "metadata": {},
   "source": [
    "### Feature Selection 2"
   ]
  },
  {
   "cell_type": "markdown",
   "id": "0fb69347",
   "metadata": {},
   "source": [
    "### Step 1 : Exhaustive Feature Selection "
   ]
  },
  {
   "cell_type": "code",
   "execution_count": 2,
   "id": "b84e11a5",
   "metadata": {},
   "outputs": [],
   "source": [
    "iris = load_iris()"
   ]
  },
  {
   "cell_type": "code",
   "execution_count": 4,
   "id": "4ebc45db",
   "metadata": {},
   "outputs": [
    {
     "data": {
      "text/html": [
       "<div>\n",
       "<style scoped>\n",
       "    .dataframe tbody tr th:only-of-type {\n",
       "        vertical-align: middle;\n",
       "    }\n",
       "\n",
       "    .dataframe tbody tr th {\n",
       "        vertical-align: top;\n",
       "    }\n",
       "\n",
       "    .dataframe thead th {\n",
       "        text-align: right;\n",
       "    }\n",
       "</style>\n",
       "<table border=\"1\" class=\"dataframe\">\n",
       "  <thead>\n",
       "    <tr style=\"text-align: right;\">\n",
       "      <th></th>\n",
       "      <th>sepal length (cm)</th>\n",
       "      <th>sepal width (cm)</th>\n",
       "      <th>petal length (cm)</th>\n",
       "      <th>petal width (cm)</th>\n",
       "    </tr>\n",
       "  </thead>\n",
       "  <tbody>\n",
       "    <tr>\n",
       "      <th>0</th>\n",
       "      <td>5.1</td>\n",
       "      <td>3.5</td>\n",
       "      <td>1.4</td>\n",
       "      <td>0.2</td>\n",
       "    </tr>\n",
       "    <tr>\n",
       "      <th>1</th>\n",
       "      <td>4.9</td>\n",
       "      <td>3.0</td>\n",
       "      <td>1.4</td>\n",
       "      <td>0.2</td>\n",
       "    </tr>\n",
       "    <tr>\n",
       "      <th>2</th>\n",
       "      <td>4.7</td>\n",
       "      <td>3.2</td>\n",
       "      <td>1.3</td>\n",
       "      <td>0.2</td>\n",
       "    </tr>\n",
       "    <tr>\n",
       "      <th>3</th>\n",
       "      <td>4.6</td>\n",
       "      <td>3.1</td>\n",
       "      <td>1.5</td>\n",
       "      <td>0.2</td>\n",
       "    </tr>\n",
       "    <tr>\n",
       "      <th>4</th>\n",
       "      <td>5.0</td>\n",
       "      <td>3.6</td>\n",
       "      <td>1.4</td>\n",
       "      <td>0.2</td>\n",
       "    </tr>\n",
       "  </tbody>\n",
       "</table>\n",
       "</div>"
      ],
      "text/plain": [
       "   sepal length (cm)  sepal width (cm)  petal length (cm)  petal width (cm)\n",
       "0                5.1               3.5                1.4               0.2\n",
       "1                4.9               3.0                1.4               0.2\n",
       "2                4.7               3.2                1.3               0.2\n",
       "3                4.6               3.1                1.5               0.2\n",
       "4                5.0               3.6                1.4               0.2"
      ]
     },
     "execution_count": 4,
     "metadata": {},
     "output_type": "execute_result"
    }
   ],
   "source": [
    "df = pd.DataFrame(iris.data,columns=iris.feature_names)\n",
    "df.head()"
   ]
  },
  {
   "cell_type": "code",
   "execution_count": 13,
   "id": "7a92c1b4",
   "metadata": {},
   "outputs": [],
   "source": [
    "from sklearn.linear_model import LogisticRegression\n",
    "from mlxtend.feature_selection import ExhaustiveFeatureSelector as EFS"
   ]
  },
  {
   "cell_type": "code",
   "execution_count": 16,
   "id": "91f4d026",
   "metadata": {},
   "outputs": [],
   "source": [
    "lr = LogisticRegression(max_iter=200)\n",
    "feature_sel = EFS(lr,max_features=4)"
   ]
  },
  {
   "cell_type": "code",
   "execution_count": 17,
   "id": "b2e72243",
   "metadata": {},
   "outputs": [
    {
     "name": "stderr",
     "output_type": "stream",
     "text": [
      "Features: 15/15"
     ]
    }
   ],
   "source": [
    "model = feature_sel.fit(df,iris.target)"
   ]
  },
  {
   "cell_type": "code",
   "execution_count": 18,
   "id": "4b21aa15",
   "metadata": {},
   "outputs": [
    {
     "data": {
      "text/plain": [
       "0.9733333333333334"
      ]
     },
     "execution_count": 18,
     "metadata": {},
     "output_type": "execute_result"
    }
   ],
   "source": [
    "model.best_score_"
   ]
  },
  {
   "cell_type": "code",
   "execution_count": 23,
   "id": "d35b834b",
   "metadata": {},
   "outputs": [
    {
     "data": {
      "text/plain": [
       "('sepal length (cm)',\n",
       " 'sepal width (cm)',\n",
       " 'petal length (cm)',\n",
       " 'petal width (cm)')"
      ]
     },
     "execution_count": 23,
     "metadata": {},
     "output_type": "execute_result"
    }
   ],
   "source": [
    "model.best_feature_names_"
   ]
  },
  {
   "cell_type": "code",
   "execution_count": 25,
   "id": "87e3e6ac",
   "metadata": {},
   "outputs": [
    {
     "data": {
      "text/plain": [
       "{0: {'feature_idx': (0,),\n",
       "  'cv_scores': array([0.66666667, 0.73333333, 0.76666667, 0.76666667, 0.83333333]),\n",
       "  'avg_score': 0.7533333333333333,\n",
       "  'feature_names': ('sepal length (cm)',)},\n",
       " 1: {'feature_idx': (1,),\n",
       "  'cv_scores': array([0.53333333, 0.56666667, 0.53333333, 0.56666667, 0.63333333]),\n",
       "  'avg_score': 0.5666666666666667,\n",
       "  'feature_names': ('sepal width (cm)',)},\n",
       " 2: {'feature_idx': (2,),\n",
       "  'cv_scores': array([0.93333333, 1.        , 0.9       , 0.93333333, 1.        ]),\n",
       "  'avg_score': 0.9533333333333334,\n",
       "  'feature_names': ('petal length (cm)',)},\n",
       " 3: {'feature_idx': (3,),\n",
       "  'cv_scores': array([1.        , 0.96666667, 0.9       , 0.93333333, 1.        ]),\n",
       "  'avg_score': 0.96,\n",
       "  'feature_names': ('petal width (cm)',)},\n",
       " 4: {'feature_idx': (0, 1),\n",
       "  'cv_scores': array([0.73333333, 0.83333333, 0.76666667, 0.86666667, 0.86666667]),\n",
       "  'avg_score': 0.8133333333333332,\n",
       "  'feature_names': ('sepal length (cm)', 'sepal width (cm)')},\n",
       " 5: {'feature_idx': (0, 2),\n",
       "  'cv_scores': array([0.93333333, 1.        , 0.9       , 0.93333333, 1.        ]),\n",
       "  'avg_score': 0.9533333333333334,\n",
       "  'feature_names': ('sepal length (cm)', 'petal length (cm)')},\n",
       " 6: {'feature_idx': (0, 3),\n",
       "  'cv_scores': array([0.93333333, 0.96666667, 0.93333333, 0.93333333, 1.        ]),\n",
       "  'avg_score': 0.9533333333333334,\n",
       "  'feature_names': ('sepal length (cm)', 'petal width (cm)')},\n",
       " 7: {'feature_idx': (1, 2),\n",
       "  'cv_scores': array([0.93333333, 1.        , 0.9       , 0.93333333, 1.        ]),\n",
       "  'avg_score': 0.9533333333333334,\n",
       "  'feature_names': ('sepal width (cm)', 'petal length (cm)')},\n",
       " 8: {'feature_idx': (1, 3),\n",
       "  'cv_scores': array([0.93333333, 0.96666667, 0.9       , 0.93333333, 0.96666667]),\n",
       "  'avg_score': 0.9400000000000001,\n",
       "  'feature_names': ('sepal width (cm)', 'petal width (cm)')},\n",
       " 9: {'feature_idx': (2, 3),\n",
       "  'cv_scores': array([0.96666667, 0.96666667, 0.93333333, 0.93333333, 1.        ]),\n",
       "  'avg_score': 0.96,\n",
       "  'feature_names': ('petal length (cm)', 'petal width (cm)')},\n",
       " 10: {'feature_idx': (0, 1, 2),\n",
       "  'cv_scores': array([0.93333333, 1.        , 0.9       , 0.93333333, 1.        ]),\n",
       "  'avg_score': 0.9533333333333334,\n",
       "  'feature_names': ('sepal length (cm)',\n",
       "   'sepal width (cm)',\n",
       "   'petal length (cm)')},\n",
       " 11: {'feature_idx': (0, 1, 3),\n",
       "  'cv_scores': array([0.9       , 0.96666667, 0.93333333, 0.93333333, 1.        ]),\n",
       "  'avg_score': 0.9466666666666667,\n",
       "  'feature_names': ('sepal length (cm)',\n",
       "   'sepal width (cm)',\n",
       "   'petal width (cm)')},\n",
       " 12: {'feature_idx': (0, 2, 3),\n",
       "  'cv_scores': array([0.96666667, 0.96666667, 0.93333333, 0.96666667, 1.        ]),\n",
       "  'avg_score': 0.9666666666666668,\n",
       "  'feature_names': ('sepal length (cm)',\n",
       "   'petal length (cm)',\n",
       "   'petal width (cm)')},\n",
       " 13: {'feature_idx': (1, 2, 3),\n",
       "  'cv_scores': array([0.96666667, 0.96666667, 0.93333333, 0.96666667, 1.        ]),\n",
       "  'avg_score': 0.9666666666666668,\n",
       "  'feature_names': ('sepal width (cm)',\n",
       "   'petal length (cm)',\n",
       "   'petal width (cm)')},\n",
       " 14: {'feature_idx': (0, 1, 2, 3),\n",
       "  'cv_scores': array([0.96666667, 1.        , 0.93333333, 0.96666667, 1.        ]),\n",
       "  'avg_score': 0.9733333333333334,\n",
       "  'feature_names': ('sepal length (cm)',\n",
       "   'sepal width (cm)',\n",
       "   'petal length (cm)',\n",
       "   'petal width (cm)')}}"
      ]
     },
     "execution_count": 25,
     "metadata": {},
     "output_type": "execute_result"
    }
   ],
   "source": [
    "# Formula for calculaing total feature subsets in EFS is :\n",
    "# 2^n - 1 where n is max_features or feature that are being given to data\n",
    "model.subsets_"
   ]
  },
  {
   "cell_type": "code",
   "execution_count": 30,
   "id": "ed1cfd99",
   "metadata": {},
   "outputs": [
    {
     "data": {
      "text/html": [
       "<div>\n",
       "<style scoped>\n",
       "    .dataframe tbody tr th:only-of-type {\n",
       "        vertical-align: middle;\n",
       "    }\n",
       "\n",
       "    .dataframe tbody tr th {\n",
       "        vertical-align: top;\n",
       "    }\n",
       "\n",
       "    .dataframe thead th {\n",
       "        text-align: right;\n",
       "    }\n",
       "</style>\n",
       "<table border=\"1\" class=\"dataframe\">\n",
       "  <thead>\n",
       "    <tr style=\"text-align: right;\">\n",
       "      <th></th>\n",
       "      <th>feature_idx</th>\n",
       "      <th>cv_scores</th>\n",
       "      <th>avg_score</th>\n",
       "      <th>feature_names</th>\n",
       "      <th>ci_bound</th>\n",
       "      <th>std_dev</th>\n",
       "      <th>std_err</th>\n",
       "    </tr>\n",
       "  </thead>\n",
       "  <tbody>\n",
       "    <tr>\n",
       "      <th>0</th>\n",
       "      <td>(0,)</td>\n",
       "      <td>[0.6666666666666666, 0.7333333333333333, 0.766...</td>\n",
       "      <td>0.753333</td>\n",
       "      <td>(sepal length (cm),)</td>\n",
       "      <td>0.069612</td>\n",
       "      <td>0.05416</td>\n",
       "      <td>0.02708</td>\n",
       "    </tr>\n",
       "    <tr>\n",
       "      <th>1</th>\n",
       "      <td>(1,)</td>\n",
       "      <td>[0.5333333333333333, 0.5666666666666667, 0.533...</td>\n",
       "      <td>0.566667</td>\n",
       "      <td>(sepal width (cm),)</td>\n",
       "      <td>0.046932</td>\n",
       "      <td>0.036515</td>\n",
       "      <td>0.018257</td>\n",
       "    </tr>\n",
       "    <tr>\n",
       "      <th>2</th>\n",
       "      <td>(2,)</td>\n",
       "      <td>[0.9333333333333333, 1.0, 0.9, 0.9333333333333...</td>\n",
       "      <td>0.953333</td>\n",
       "      <td>(petal length (cm),)</td>\n",
       "      <td>0.051412</td>\n",
       "      <td>0.04</td>\n",
       "      <td>0.02</td>\n",
       "    </tr>\n",
       "    <tr>\n",
       "      <th>3</th>\n",
       "      <td>(3,)</td>\n",
       "      <td>[1.0, 0.9666666666666667, 0.9, 0.9333333333333...</td>\n",
       "      <td>0.96</td>\n",
       "      <td>(petal width (cm),)</td>\n",
       "      <td>0.049963</td>\n",
       "      <td>0.038873</td>\n",
       "      <td>0.019437</td>\n",
       "    </tr>\n",
       "    <tr>\n",
       "      <th>4</th>\n",
       "      <td>(0, 1)</td>\n",
       "      <td>[0.7333333333333333, 0.8333333333333334, 0.766...</td>\n",
       "      <td>0.813333</td>\n",
       "      <td>(sepal length (cm), sepal width (cm))</td>\n",
       "      <td>0.069612</td>\n",
       "      <td>0.05416</td>\n",
       "      <td>0.02708</td>\n",
       "    </tr>\n",
       "    <tr>\n",
       "      <th>5</th>\n",
       "      <td>(0, 2)</td>\n",
       "      <td>[0.9333333333333333, 1.0, 0.9, 0.9333333333333...</td>\n",
       "      <td>0.953333</td>\n",
       "      <td>(sepal length (cm), petal length (cm))</td>\n",
       "      <td>0.051412</td>\n",
       "      <td>0.04</td>\n",
       "      <td>0.02</td>\n",
       "    </tr>\n",
       "    <tr>\n",
       "      <th>6</th>\n",
       "      <td>(0, 3)</td>\n",
       "      <td>[0.9333333333333333, 0.9666666666666667, 0.933...</td>\n",
       "      <td>0.953333</td>\n",
       "      <td>(sepal length (cm), petal width (cm))</td>\n",
       "      <td>0.034274</td>\n",
       "      <td>0.026667</td>\n",
       "      <td>0.013333</td>\n",
       "    </tr>\n",
       "    <tr>\n",
       "      <th>7</th>\n",
       "      <td>(1, 2)</td>\n",
       "      <td>[0.9333333333333333, 1.0, 0.9, 0.9333333333333...</td>\n",
       "      <td>0.953333</td>\n",
       "      <td>(sepal width (cm), petal length (cm))</td>\n",
       "      <td>0.051412</td>\n",
       "      <td>0.04</td>\n",
       "      <td>0.02</td>\n",
       "    </tr>\n",
       "    <tr>\n",
       "      <th>8</th>\n",
       "      <td>(1, 3)</td>\n",
       "      <td>[0.9333333333333333, 0.9666666666666667, 0.9, ...</td>\n",
       "      <td>0.94</td>\n",
       "      <td>(sepal width (cm), petal width (cm))</td>\n",
       "      <td>0.032061</td>\n",
       "      <td>0.024944</td>\n",
       "      <td>0.012472</td>\n",
       "    </tr>\n",
       "    <tr>\n",
       "      <th>9</th>\n",
       "      <td>(2, 3)</td>\n",
       "      <td>[0.9666666666666667, 0.9666666666666667, 0.933...</td>\n",
       "      <td>0.96</td>\n",
       "      <td>(petal length (cm), petal width (cm))</td>\n",
       "      <td>0.032061</td>\n",
       "      <td>0.024944</td>\n",
       "      <td>0.012472</td>\n",
       "    </tr>\n",
       "    <tr>\n",
       "      <th>10</th>\n",
       "      <td>(0, 1, 2)</td>\n",
       "      <td>[0.9333333333333333, 1.0, 0.9, 0.9333333333333...</td>\n",
       "      <td>0.953333</td>\n",
       "      <td>(sepal length (cm), sepal width (cm), petal le...</td>\n",
       "      <td>0.051412</td>\n",
       "      <td>0.04</td>\n",
       "      <td>0.02</td>\n",
       "    </tr>\n",
       "    <tr>\n",
       "      <th>11</th>\n",
       "      <td>(0, 1, 3)</td>\n",
       "      <td>[0.9, 0.9666666666666667, 0.9333333333333333, ...</td>\n",
       "      <td>0.946667</td>\n",
       "      <td>(sepal length (cm), sepal width (cm), petal wi...</td>\n",
       "      <td>0.043691</td>\n",
       "      <td>0.033993</td>\n",
       "      <td>0.016997</td>\n",
       "    </tr>\n",
       "    <tr>\n",
       "      <th>12</th>\n",
       "      <td>(0, 2, 3)</td>\n",
       "      <td>[0.9666666666666667, 0.9666666666666667, 0.933...</td>\n",
       "      <td>0.966667</td>\n",
       "      <td>(sepal length (cm), petal length (cm), petal w...</td>\n",
       "      <td>0.027096</td>\n",
       "      <td>0.021082</td>\n",
       "      <td>0.010541</td>\n",
       "    </tr>\n",
       "    <tr>\n",
       "      <th>13</th>\n",
       "      <td>(1, 2, 3)</td>\n",
       "      <td>[0.9666666666666667, 0.9666666666666667, 0.933...</td>\n",
       "      <td>0.966667</td>\n",
       "      <td>(sepal width (cm), petal length (cm), petal wi...</td>\n",
       "      <td>0.027096</td>\n",
       "      <td>0.021082</td>\n",
       "      <td>0.010541</td>\n",
       "    </tr>\n",
       "    <tr>\n",
       "      <th>14</th>\n",
       "      <td>(0, 1, 2, 3)</td>\n",
       "      <td>[0.9666666666666667, 1.0, 0.9333333333333333, ...</td>\n",
       "      <td>0.973333</td>\n",
       "      <td>(sepal length (cm), sepal width (cm), petal le...</td>\n",
       "      <td>0.032061</td>\n",
       "      <td>0.024944</td>\n",
       "      <td>0.012472</td>\n",
       "    </tr>\n",
       "  </tbody>\n",
       "</table>\n",
       "</div>"
      ],
      "text/plain": [
       "     feature_idx                                          cv_scores avg_score  \\\n",
       "0           (0,)  [0.6666666666666666, 0.7333333333333333, 0.766...  0.753333   \n",
       "1           (1,)  [0.5333333333333333, 0.5666666666666667, 0.533...  0.566667   \n",
       "2           (2,)  [0.9333333333333333, 1.0, 0.9, 0.9333333333333...  0.953333   \n",
       "3           (3,)  [1.0, 0.9666666666666667, 0.9, 0.9333333333333...      0.96   \n",
       "4         (0, 1)  [0.7333333333333333, 0.8333333333333334, 0.766...  0.813333   \n",
       "5         (0, 2)  [0.9333333333333333, 1.0, 0.9, 0.9333333333333...  0.953333   \n",
       "6         (0, 3)  [0.9333333333333333, 0.9666666666666667, 0.933...  0.953333   \n",
       "7         (1, 2)  [0.9333333333333333, 1.0, 0.9, 0.9333333333333...  0.953333   \n",
       "8         (1, 3)  [0.9333333333333333, 0.9666666666666667, 0.9, ...      0.94   \n",
       "9         (2, 3)  [0.9666666666666667, 0.9666666666666667, 0.933...      0.96   \n",
       "10     (0, 1, 2)  [0.9333333333333333, 1.0, 0.9, 0.9333333333333...  0.953333   \n",
       "11     (0, 1, 3)  [0.9, 0.9666666666666667, 0.9333333333333333, ...  0.946667   \n",
       "12     (0, 2, 3)  [0.9666666666666667, 0.9666666666666667, 0.933...  0.966667   \n",
       "13     (1, 2, 3)  [0.9666666666666667, 0.9666666666666667, 0.933...  0.966667   \n",
       "14  (0, 1, 2, 3)  [0.9666666666666667, 1.0, 0.9333333333333333, ...  0.973333   \n",
       "\n",
       "                                        feature_names  ci_bound   std_dev  \\\n",
       "0                                (sepal length (cm),)  0.069612   0.05416   \n",
       "1                                 (sepal width (cm),)  0.046932  0.036515   \n",
       "2                                (petal length (cm),)  0.051412      0.04   \n",
       "3                                 (petal width (cm),)  0.049963  0.038873   \n",
       "4               (sepal length (cm), sepal width (cm))  0.069612   0.05416   \n",
       "5              (sepal length (cm), petal length (cm))  0.051412      0.04   \n",
       "6               (sepal length (cm), petal width (cm))  0.034274  0.026667   \n",
       "7               (sepal width (cm), petal length (cm))  0.051412      0.04   \n",
       "8                (sepal width (cm), petal width (cm))  0.032061  0.024944   \n",
       "9               (petal length (cm), petal width (cm))  0.032061  0.024944   \n",
       "10  (sepal length (cm), sepal width (cm), petal le...  0.051412      0.04   \n",
       "11  (sepal length (cm), sepal width (cm), petal wi...  0.043691  0.033993   \n",
       "12  (sepal length (cm), petal length (cm), petal w...  0.027096  0.021082   \n",
       "13  (sepal width (cm), petal length (cm), petal wi...  0.027096  0.021082   \n",
       "14  (sepal length (cm), sepal width (cm), petal le...  0.032061  0.024944   \n",
       "\n",
       "     std_err  \n",
       "0    0.02708  \n",
       "1   0.018257  \n",
       "2       0.02  \n",
       "3   0.019437  \n",
       "4    0.02708  \n",
       "5       0.02  \n",
       "6   0.013333  \n",
       "7       0.02  \n",
       "8   0.012472  \n",
       "9   0.012472  \n",
       "10      0.02  \n",
       "11  0.016997  \n",
       "12  0.010541  \n",
       "13  0.010541  \n",
       "14  0.012472  "
      ]
     },
     "execution_count": 30,
     "metadata": {},
     "output_type": "execute_result"
    }
   ],
   "source": [
    "metric_df = pd.DataFrame(model.get_metric_dict()).T\n",
    "metric_df"
   ]
  },
  {
   "cell_type": "code",
   "execution_count": 31,
   "id": "0695faa2",
   "metadata": {},
   "outputs": [],
   "source": [
    "from matplotlib import pyplot as plt"
   ]
  },
  {
   "cell_type": "code",
   "execution_count": 36,
   "id": "31656f3b",
   "metadata": {},
   "outputs": [
    {
     "data": {
      "image/png": "[encoded data removed]",
      "text/plain": [
       "<Figure size 432x288 with 1 Axes>"
      ]
     },
     "metadata": {
      "needs_background": "light"
     },
     "output_type": "display_data"
    }
   ],
   "source": [
    "plt.plot([str(k) for k in metric_df['feature_names']], metric_df['avg_score'])\n",
    "plt.xticks(rotation=90)\n",
    "plt.show()"
   ]
  },
  {
   "cell_type": "markdown",
   "id": "1a06fb4e",
   "metadata": {},
   "source": [
    "### Using Regression dataset"
   ]
  },
  {
   "cell_type": "code",
   "execution_count": 38,
   "id": "de4722f2",
   "metadata": {},
   "outputs": [
    {
     "data": {
      "text/html": [
       "<div>\n",
       "<style scoped>\n",
       "    .dataframe tbody tr th:only-of-type {\n",
       "        vertical-align: middle;\n",
       "    }\n",
       "\n",
       "    .dataframe tbody tr th {\n",
       "        vertical-align: top;\n",
       "    }\n",
       "\n",
       "    .dataframe thead th {\n",
       "        text-align: right;\n",
       "    }\n",
       "</style>\n",
       "<table border=\"1\" class=\"dataframe\">\n",
       "  <thead>\n",
       "    <tr style=\"text-align: right;\">\n",
       "      <th></th>\n",
       "      <th>crim</th>\n",
       "      <th>zn</th>\n",
       "      <th>indus</th>\n",
       "      <th>chas</th>\n",
       "      <th>nox</th>\n",
       "      <th>rm</th>\n",
       "      <th>age</th>\n",
       "      <th>dis</th>\n",
       "      <th>rad</th>\n",
       "      <th>tax</th>\n",
       "      <th>ptratio</th>\n",
       "      <th>b</th>\n",
       "      <th>lstat</th>\n",
       "      <th>medv</th>\n",
       "    </tr>\n",
       "  </thead>\n",
       "  <tbody>\n",
       "    <tr>\n",
       "      <th>0</th>\n",
       "      <td>0.00632</td>\n",
       "      <td>18.0</td>\n",
       "      <td>2.31</td>\n",
       "      <td>0</td>\n",
       "      <td>0.538</td>\n",
       "      <td>6.575</td>\n",
       "      <td>65.2</td>\n",
       "      <td>4.0900</td>\n",
       "      <td>1</td>\n",
       "      <td>296</td>\n",
       "      <td>15.3</td>\n",
       "      <td>396.90</td>\n",
       "      <td>4.98</td>\n",
       "      <td>24.0</td>\n",
       "    </tr>\n",
       "    <tr>\n",
       "      <th>1</th>\n",
       "      <td>0.02731</td>\n",
       "      <td>0.0</td>\n",
       "      <td>7.07</td>\n",
       "      <td>0</td>\n",
       "      <td>0.469</td>\n",
       "      <td>6.421</td>\n",
       "      <td>78.9</td>\n",
       "      <td>4.9671</td>\n",
       "      <td>2</td>\n",
       "      <td>242</td>\n",
       "      <td>17.8</td>\n",
       "      <td>396.90</td>\n",
       "      <td>9.14</td>\n",
       "      <td>21.6</td>\n",
       "    </tr>\n",
       "    <tr>\n",
       "      <th>2</th>\n",
       "      <td>0.02729</td>\n",
       "      <td>0.0</td>\n",
       "      <td>7.07</td>\n",
       "      <td>0</td>\n",
       "      <td>0.469</td>\n",
       "      <td>7.185</td>\n",
       "      <td>61.1</td>\n",
       "      <td>4.9671</td>\n",
       "      <td>2</td>\n",
       "      <td>242</td>\n",
       "      <td>17.8</td>\n",
       "      <td>392.83</td>\n",
       "      <td>4.03</td>\n",
       "      <td>34.7</td>\n",
       "    </tr>\n",
       "    <tr>\n",
       "      <th>3</th>\n",
       "      <td>0.03237</td>\n",
       "      <td>0.0</td>\n",
       "      <td>2.18</td>\n",
       "      <td>0</td>\n",
       "      <td>0.458</td>\n",
       "      <td>6.998</td>\n",
       "      <td>45.8</td>\n",
       "      <td>6.0622</td>\n",
       "      <td>3</td>\n",
       "      <td>222</td>\n",
       "      <td>18.7</td>\n",
       "      <td>394.63</td>\n",
       "      <td>2.94</td>\n",
       "      <td>33.4</td>\n",
       "    </tr>\n",
       "    <tr>\n",
       "      <th>4</th>\n",
       "      <td>0.06905</td>\n",
       "      <td>0.0</td>\n",
       "      <td>2.18</td>\n",
       "      <td>0</td>\n",
       "      <td>0.458</td>\n",
       "      <td>7.147</td>\n",
       "      <td>54.2</td>\n",
       "      <td>6.0622</td>\n",
       "      <td>3</td>\n",
       "      <td>222</td>\n",
       "      <td>18.7</td>\n",
       "      <td>396.90</td>\n",
       "      <td>5.33</td>\n",
       "      <td>36.2</td>\n",
       "    </tr>\n",
       "  </tbody>\n",
       "</table>\n",
       "</div>"
      ],
      "text/plain": [
       "      crim    zn  indus  chas    nox     rm   age     dis  rad  tax  ptratio  \\\n",
       "0  0.00632  18.0   2.31     0  0.538  6.575  65.2  4.0900    1  296     15.3   \n",
       "1  0.02731   0.0   7.07     0  0.469  6.421  78.9  4.9671    2  242     17.8   \n",
       "2  0.02729   0.0   7.07     0  0.469  7.185  61.1  4.9671    2  242     17.8   \n",
       "3  0.03237   0.0   2.18     0  0.458  6.998  45.8  6.0622    3  222     18.7   \n",
       "4  0.06905   0.0   2.18     0  0.458  7.147  54.2  6.0622    3  222     18.7   \n",
       "\n",
       "        b  lstat  medv  \n",
       "0  396.90   4.98  24.0  \n",
       "1  396.90   9.14  21.6  \n",
       "2  392.83   4.03  34.7  \n",
       "3  394.63   2.94  33.4  \n",
       "4  396.90   5.33  36.2  "
      ]
     },
     "execution_count": 38,
     "metadata": {},
     "output_type": "execute_result"
    }
   ],
   "source": [
    "data = pd.read_csv('https://raw.githubusercontent.com/selva86/datasets/master/BostonHousing.csv')\n",
    "data.head()"
   ]
  },
  {
   "cell_type": "code",
   "execution_count": 39,
   "id": "a122905a",
   "metadata": {},
   "outputs": [],
   "source": [
    "from sklearn.model_selection import train_test_split\n",
    "\n",
    "x = data.drop('medv',axis=1)\n",
    "y = data['medv']\n",
    "x_train,x_test,y_train,y_test = train_test_split(x,y,test_size=0.2,random_state=2)"
   ]
  },
  {
   "cell_type": "code",
   "execution_count": 43,
   "id": "18e94ad1",
   "metadata": {},
   "outputs": [
    {
     "data": {
      "text/plain": [
       "(102,)"
      ]
     },
     "execution_count": 43,
     "metadata": {},
     "output_type": "execute_result"
    }
   ],
   "source": [
    "y_test.shape"
   ]
  },
  {
   "cell_type": "code",
   "execution_count": 44,
   "id": "95fc0af4",
   "metadata": {},
   "outputs": [],
   "source": [
    "from sklearn.preprocessing import StandardScaler\n",
    "\n",
    "scale = StandardScaler()\n",
    "x_train_scaled = scale.fit_transform(x_train)\n",
    "x_test_scaled = scale.transform(x_test)"
   ]
  },
  {
   "cell_type": "code",
   "execution_count": 46,
   "id": "e1f203bf",
   "metadata": {},
   "outputs": [
    {
     "data": {
      "text/plain": [
       "array([[-0.37743861, -0.47456976, -0.5837312 , ...,  0.52359086,\n",
       "         0.45391267, -0.83410575],\n",
       "       [-0.38918729, -0.47456976, -0.78968387, ...,  0.33155209,\n",
       "         0.45391267, -0.56340806],\n",
       "       [-0.39619249,  3.16608882, -1.39883965, ..., -0.14854484,\n",
       "        -0.13442027,  0.02927739],\n",
       "       ...,\n",
       "       [-0.3783975 , -0.47456976, -0.24869553, ...,  0.33155209,\n",
       "         0.45391267, -0.10179728],\n",
       "       [-0.3258116 , -0.47456976, -0.47350302, ...,  1.19572656,\n",
       "         0.44029484, -0.6061498 ],\n",
       "       [-0.13206441, -0.47456976,  1.18572129, ..., -1.82888409,\n",
       "        -0.60795914, -0.23144722]])"
      ]
     },
     "execution_count": 46,
     "metadata": {},
     "output_type": "execute_result"
    }
   ],
   "source": [
    "x_train_scaled"
   ]
  },
  {
   "cell_type": "code",
   "execution_count": 68,
   "id": "91c98dac",
   "metadata": {},
   "outputs": [],
   "source": [
    "from sklearn.linear_model import LinearRegression\n",
    "from sklearn.model_selection import cross_val_score\n",
    "\n",
    "linear = LinearRegression()\n",
    "\n",
    "linear_model_training = cross_val_score(linear,X=x_train_scaled,y=y_train,scoring='r2',cv=10)\n",
    "linear_model_testing = cross_val_score(linear,X=x_test_scaled,y=y_test,scoring='r2',cv=10)"
   ]
  },
  {
   "cell_type": "code",
   "execution_count": 69,
   "id": "9ea532d0",
   "metadata": {},
   "outputs": [
    {
     "data": {
      "text/plain": [
       "0.6883699418111653"
      ]
     },
     "execution_count": 69,
     "metadata": {},
     "output_type": "execute_result"
    }
   ],
   "source": [
    "linear_model_training.mean()"
   ]
  },
  {
   "cell_type": "code",
   "execution_count": 70,
   "id": "442ddc65",
   "metadata": {},
   "outputs": [
    {
     "data": {
      "text/plain": [
       "0.598033358590819"
      ]
     },
     "execution_count": 70,
     "metadata": {},
     "output_type": "execute_result"
    }
   ],
   "source": [
    "linear_model_testing.mean()"
   ]
  },
  {
   "cell_type": "markdown",
   "id": "4dbfa232",
   "metadata": {},
   "source": [
    "#### Now applying linear regression again using EFS"
   ]
  },
  {
   "cell_type": "code",
   "execution_count": 73,
   "id": "9a618fb2",
   "metadata": {},
   "outputs": [
    {
     "name": "stderr",
     "output_type": "stream",
     "text": [
      "Features: 8191/8191"
     ]
    }
   ],
   "source": [
    "efs = EFS(linear,max_features=13,print_progress=True,cv=10,scoring='r2')\n",
    "fture_sel = efs.fit(x_train_scaled,y_train)"
   ]
  },
  {
   "cell_type": "code",
   "execution_count": 74,
   "id": "f3fb4382",
   "metadata": {},
   "outputs": [
    {
     "data": {
      "text/plain": [
       "0.6908017709038574"
      ]
     },
     "execution_count": 74,
     "metadata": {},
     "output_type": "execute_result"
    }
   ],
   "source": [
    "fture_sel.best_score_"
   ]
  },
  {
   "cell_type": "code",
   "execution_count": 75,
   "id": "197fb9e1",
   "metadata": {},
   "outputs": [
    {
     "data": {
      "text/plain": [
       "('0', '1', '3', '4', '5', '7', '8', '9', '10', '11', '12')"
      ]
     },
     "execution_count": 75,
     "metadata": {},
     "output_type": "execute_result"
    }
   ],
   "source": [
    "fture_sel.best_feature_names_"
   ]
  },
  {
   "cell_type": "code",
   "execution_count": 76,
   "id": "4cf8d975",
   "metadata": {},
   "outputs": [
    {
     "data": {
      "text/plain": [
       "(0, 1, 3, 4, 5, 7, 8, 9, 10, 11, 12)"
      ]
     },
     "execution_count": 76,
     "metadata": {},
     "output_type": "execute_result"
    }
   ],
   "source": [
    "fture_sel.best_idx_"
   ]
  },
  {
   "cell_type": "code",
   "execution_count": 81,
   "id": "8b78075d",
   "metadata": {},
   "outputs": [
    {
     "data": {
      "text/html": [
       "<div>\n",
       "<style scoped>\n",
       "    .dataframe tbody tr th:only-of-type {\n",
       "        vertical-align: middle;\n",
       "    }\n",
       "\n",
       "    .dataframe tbody tr th {\n",
       "        vertical-align: top;\n",
       "    }\n",
       "\n",
       "    .dataframe thead th {\n",
       "        text-align: right;\n",
       "    }\n",
       "</style>\n",
       "<table border=\"1\" class=\"dataframe\">\n",
       "  <thead>\n",
       "    <tr style=\"text-align: right;\">\n",
       "      <th></th>\n",
       "      <th>feature_idx</th>\n",
       "      <th>cv_scores</th>\n",
       "      <th>avg_score</th>\n",
       "      <th>feature_names</th>\n",
       "      <th>ci_bound</th>\n",
       "      <th>std_dev</th>\n",
       "      <th>std_err</th>\n",
       "    </tr>\n",
       "  </thead>\n",
       "  <tbody>\n",
       "    <tr>\n",
       "      <th>0</th>\n",
       "      <td>(0,)</td>\n",
       "      <td>[0.21114948846401937, 0.05617257789397889, 0.1...</td>\n",
       "      <td>0.090584</td>\n",
       "      <td>(0,)</td>\n",
       "      <td>0.058456</td>\n",
       "      <td>0.078706</td>\n",
       "      <td>0.026235</td>\n",
       "    </tr>\n",
       "    <tr>\n",
       "      <th>1</th>\n",
       "      <td>(1,)</td>\n",
       "      <td>[0.10024498418931094, 0.057415019085727104, -0...</td>\n",
       "      <td>0.08041</td>\n",
       "      <td>(1,)</td>\n",
       "      <td>0.059363</td>\n",
       "      <td>0.079927</td>\n",
       "      <td>0.026642</td>\n",
       "    </tr>\n",
       "    <tr>\n",
       "      <th>2</th>\n",
       "      <td>(2,)</td>\n",
       "      <td>[0.18401775043295243, 0.10274194717127505, 0.1...</td>\n",
       "      <td>0.18668</td>\n",
       "      <td>(2,)</td>\n",
       "      <td>0.084623</td>\n",
       "      <td>0.113938</td>\n",
       "      <td>0.037979</td>\n",
       "    </tr>\n",
       "    <tr>\n",
       "      <th>3</th>\n",
       "      <td>(3,)</td>\n",
       "      <td>[0.07730135125361781, 0.035964826531153404, -0...</td>\n",
       "      <td>0.027614</td>\n",
       "      <td>(3,)</td>\n",
       "      <td>0.049668</td>\n",
       "      <td>0.066874</td>\n",
       "      <td>0.022291</td>\n",
       "    </tr>\n",
       "    <tr>\n",
       "      <th>4</th>\n",
       "      <td>(4,)</td>\n",
       "      <td>[0.24448453708830642, 0.10867049515410976, 0.0...</td>\n",
       "      <td>0.139739</td>\n",
       "      <td>(4,)</td>\n",
       "      <td>0.096446</td>\n",
       "      <td>0.129856</td>\n",
       "      <td>0.043285</td>\n",
       "    </tr>\n",
       "  </tbody>\n",
       "</table>\n",
       "</div>"
      ],
      "text/plain": [
       "  feature_idx                                          cv_scores avg_score  \\\n",
       "0        (0,)  [0.21114948846401937, 0.05617257789397889, 0.1...  0.090584   \n",
       "1        (1,)  [0.10024498418931094, 0.057415019085727104, -0...   0.08041   \n",
       "2        (2,)  [0.18401775043295243, 0.10274194717127505, 0.1...   0.18668   \n",
       "3        (3,)  [0.07730135125361781, 0.035964826531153404, -0...  0.027614   \n",
       "4        (4,)  [0.24448453708830642, 0.10867049515410976, 0.0...  0.139739   \n",
       "\n",
       "  feature_names  ci_bound   std_dev   std_err  \n",
       "0          (0,)  0.058456  0.078706  0.026235  \n",
       "1          (1,)  0.059363  0.079927  0.026642  \n",
       "2          (2,)  0.084623  0.113938  0.037979  \n",
       "3          (3,)  0.049668  0.066874  0.022291  \n",
       "4          (4,)  0.096446  0.129856  0.043285  "
      ]
     },
     "execution_count": 81,
     "metadata": {},
     "output_type": "execute_result"
    }
   ],
   "source": [
    "metric_data = pd.DataFrame(fture_sel.get_metric_dict()).T\n",
    "metric_data.head()"
   ]
  },
  {
   "cell_type": "code",
   "execution_count": 96,
   "id": "6177f4dc",
   "metadata": {},
   "outputs": [],
   "source": [
    "def adjusted_r2(r2,num_features,total_data):\n",
    "    coef = (total_data - 1) / (total_data - num_features - 1)\n",
    "    return 1 - ((1 - r2) * coef)"
   ]
  },
  {
   "cell_type": "code",
   "execution_count": 97,
   "id": "bde283b0",
   "metadata": {},
   "outputs": [],
   "source": [
    "metric_data['observations'] = 404\n",
    "metric_data['num_features'] = metric_data['feature_idx'].apply(lambda x :len(x))\n",
    "metric_data['adjusted_r2'] = adjusted_r2(metric_data['avg_score'],metric_data['num_features'],metric_data['observations'])"
   ]
  },
  {
   "cell_type": "code",
   "execution_count": 98,
   "id": "6c0504cb",
   "metadata": {},
   "outputs": [
    {
     "data": {
      "text/html": [
       "<div>\n",
       "<style scoped>\n",
       "    .dataframe tbody tr th:only-of-type {\n",
       "        vertical-align: middle;\n",
       "    }\n",
       "\n",
       "    .dataframe tbody tr th {\n",
       "        vertical-align: top;\n",
       "    }\n",
       "\n",
       "    .dataframe thead th {\n",
       "        text-align: right;\n",
       "    }\n",
       "</style>\n",
       "<table border=\"1\" class=\"dataframe\">\n",
       "  <thead>\n",
       "    <tr style=\"text-align: right;\">\n",
       "      <th></th>\n",
       "      <th>feature_idx</th>\n",
       "      <th>cv_scores</th>\n",
       "      <th>avg_score</th>\n",
       "      <th>feature_names</th>\n",
       "      <th>ci_bound</th>\n",
       "      <th>std_dev</th>\n",
       "      <th>std_err</th>\n",
       "      <th>observations</th>\n",
       "      <th>num_features</th>\n",
       "      <th>adjusted_r2</th>\n",
       "    </tr>\n",
       "  </thead>\n",
       "  <tbody>\n",
       "    <tr>\n",
       "      <th>8186</th>\n",
       "      <td>(0, 1, 2, 4, 5, 6, 7, 8, 9, 10, 11, 12)</td>\n",
       "      <td>[0.6061158850048471, 0.7946197550981472, 0.656...</td>\n",
       "      <td>0.681429</td>\n",
       "      <td>(0, 1, 2, 4, 5, 6, 7, 8, 9, 10, 11, 12)</td>\n",
       "      <td>0.078376</td>\n",
       "      <td>0.105526</td>\n",
       "      <td>0.035175</td>\n",
       "      <td>404</td>\n",
       "      <td>12</td>\n",
       "      <td>0.671652</td>\n",
       "    </tr>\n",
       "    <tr>\n",
       "      <th>8187</th>\n",
       "      <td>(0, 1, 3, 4, 5, 6, 7, 8, 9, 10, 11, 12)</td>\n",
       "      <td>[0.6101154304612251, 0.8103792767941538, 0.653...</td>\n",
       "      <td>0.688792</td>\n",
       "      <td>(0, 1, 3, 4, 5, 6, 7, 8, 9, 10, 11, 12)</td>\n",
       "      <td>0.078139</td>\n",
       "      <td>0.105207</td>\n",
       "      <td>0.035069</td>\n",
       "      <td>404</td>\n",
       "      <td>12</td>\n",
       "      <td>0.679241</td>\n",
       "    </tr>\n",
       "    <tr>\n",
       "      <th>8188</th>\n",
       "      <td>(0, 2, 3, 4, 5, 6, 7, 8, 9, 10, 11, 12)</td>\n",
       "      <td>[0.6010802291159092, 0.7998841794119219, 0.648...</td>\n",
       "      <td>0.688205</td>\n",
       "      <td>(0, 2, 3, 4, 5, 6, 7, 8, 9, 10, 11, 12)</td>\n",
       "      <td>0.075591</td>\n",
       "      <td>0.101777</td>\n",
       "      <td>0.033926</td>\n",
       "      <td>404</td>\n",
       "      <td>12</td>\n",
       "      <td>0.678636</td>\n",
       "    </tr>\n",
       "    <tr>\n",
       "      <th>8189</th>\n",
       "      <td>(1, 2, 3, 4, 5, 6, 7, 8, 9, 10, 11, 12)</td>\n",
       "      <td>[0.5912087277579527, 0.7985342060992906, 0.663...</td>\n",
       "      <td>0.682875</td>\n",
       "      <td>(1, 2, 3, 4, 5, 6, 7, 8, 9, 10, 11, 12)</td>\n",
       "      <td>0.073551</td>\n",
       "      <td>0.09903</td>\n",
       "      <td>0.03301</td>\n",
       "      <td>404</td>\n",
       "      <td>12</td>\n",
       "      <td>0.673142</td>\n",
       "    </tr>\n",
       "    <tr>\n",
       "      <th>8190</th>\n",
       "      <td>(0, 1, 2, 3, 4, 5, 6, 7, 8, 9, 10, 11, 12)</td>\n",
       "      <td>[0.6098718561337806, 0.8100254843346093, 0.653...</td>\n",
       "      <td>0.68837</td>\n",
       "      <td>(0, 1, 2, 3, 4, 5, 6, 7, 8, 9, 10, 11, 12)</td>\n",
       "      <td>0.078202</td>\n",
       "      <td>0.105293</td>\n",
       "      <td>0.035098</td>\n",
       "      <td>404</td>\n",
       "      <td>13</td>\n",
       "      <td>0.677982</td>\n",
       "    </tr>\n",
       "  </tbody>\n",
       "</table>\n",
       "</div>"
      ],
      "text/plain": [
       "                                     feature_idx  \\\n",
       "8186     (0, 1, 2, 4, 5, 6, 7, 8, 9, 10, 11, 12)   \n",
       "8187     (0, 1, 3, 4, 5, 6, 7, 8, 9, 10, 11, 12)   \n",
       "8188     (0, 2, 3, 4, 5, 6, 7, 8, 9, 10, 11, 12)   \n",
       "8189     (1, 2, 3, 4, 5, 6, 7, 8, 9, 10, 11, 12)   \n",
       "8190  (0, 1, 2, 3, 4, 5, 6, 7, 8, 9, 10, 11, 12)   \n",
       "\n",
       "                                              cv_scores avg_score  \\\n",
       "8186  [0.6061158850048471, 0.7946197550981472, 0.656...  0.681429   \n",
       "8187  [0.6101154304612251, 0.8103792767941538, 0.653...  0.688792   \n",
       "8188  [0.6010802291159092, 0.7998841794119219, 0.648...  0.688205   \n",
       "8189  [0.5912087277579527, 0.7985342060992906, 0.663...  0.682875   \n",
       "8190  [0.6098718561337806, 0.8100254843346093, 0.653...   0.68837   \n",
       "\n",
       "                                   feature_names  ci_bound   std_dev  \\\n",
       "8186     (0, 1, 2, 4, 5, 6, 7, 8, 9, 10, 11, 12)  0.078376  0.105526   \n",
       "8187     (0, 1, 3, 4, 5, 6, 7, 8, 9, 10, 11, 12)  0.078139  0.105207   \n",
       "8188     (0, 2, 3, 4, 5, 6, 7, 8, 9, 10, 11, 12)  0.075591  0.101777   \n",
       "8189     (1, 2, 3, 4, 5, 6, 7, 8, 9, 10, 11, 12)  0.073551   0.09903   \n",
       "8190  (0, 1, 2, 3, 4, 5, 6, 7, 8, 9, 10, 11, 12)  0.078202  0.105293   \n",
       "\n",
       "       std_err  observations  num_features adjusted_r2  \n",
       "8186  0.035175           404            12    0.671652  \n",
       "8187  0.035069           404            12    0.679241  \n",
       "8188  0.033926           404            12    0.678636  \n",
       "8189   0.03301           404            12    0.673142  \n",
       "8190  0.035098           404            13    0.677982  "
      ]
     },
     "execution_count": 98,
     "metadata": {},
     "output_type": "execute_result"
    }
   ],
   "source": [
    "metric_data.tail()"
   ]
  },
  {
   "cell_type": "code",
   "execution_count": 100,
   "id": "7f2fb123",
   "metadata": {},
   "outputs": [
    {
     "data": {
      "text/html": [
       "<div>\n",
       "<style scoped>\n",
       "    .dataframe tbody tr th:only-of-type {\n",
       "        vertical-align: middle;\n",
       "    }\n",
       "\n",
       "    .dataframe tbody tr th {\n",
       "        vertical-align: top;\n",
       "    }\n",
       "\n",
       "    .dataframe thead th {\n",
       "        text-align: right;\n",
       "    }\n",
       "</style>\n",
       "<table border=\"1\" class=\"dataframe\">\n",
       "  <thead>\n",
       "    <tr style=\"text-align: right;\">\n",
       "      <th></th>\n",
       "      <th>feature_idx</th>\n",
       "      <th>cv_scores</th>\n",
       "      <th>avg_score</th>\n",
       "      <th>feature_names</th>\n",
       "      <th>ci_bound</th>\n",
       "      <th>std_dev</th>\n",
       "      <th>std_err</th>\n",
       "      <th>observations</th>\n",
       "      <th>num_features</th>\n",
       "      <th>adjusted_r2</th>\n",
       "    </tr>\n",
       "  </thead>\n",
       "  <tbody>\n",
       "    <tr>\n",
       "      <th>8029</th>\n",
       "      <td>(0, 3, 4, 5, 7, 8, 9, 10, 11, 12)</td>\n",
       "      <td>[0.6074602842383303, 0.8005826789942025, 0.647...</td>\n",
       "      <td>0.690479</td>\n",
       "      <td>(0, 3, 4, 5, 7, 8, 9, 10, 11, 12)</td>\n",
       "      <td>0.075194</td>\n",
       "      <td>0.101243</td>\n",
       "      <td>0.033748</td>\n",
       "      <td>404</td>\n",
       "      <td>10</td>\n",
       "      <td>0.682603</td>\n",
       "    </tr>\n",
       "    <tr>\n",
       "      <th>8150</th>\n",
       "      <td>(0, 1, 3, 4, 5, 7, 8, 9, 10, 11, 12)</td>\n",
       "      <td>[0.6181802912059224, 0.8096041951792724, 0.652...</td>\n",
       "      <td>0.690802</td>\n",
       "      <td>(0, 1, 3, 4, 5, 7, 8, 9, 10, 11, 12)</td>\n",
       "      <td>0.078195</td>\n",
       "      <td>0.105283</td>\n",
       "      <td>0.035094</td>\n",
       "      <td>404</td>\n",
       "      <td>11</td>\n",
       "      <td>0.682125</td>\n",
       "    </tr>\n",
       "    <tr>\n",
       "      <th>8160</th>\n",
       "      <td>(0, 2, 3, 4, 5, 7, 8, 9, 10, 11, 12)</td>\n",
       "      <td>[0.6074758898705045, 0.7999812169543883, 0.648...</td>\n",
       "      <td>0.69011</td>\n",
       "      <td>(0, 2, 3, 4, 5, 7, 8, 9, 10, 11, 12)</td>\n",
       "      <td>0.075211</td>\n",
       "      <td>0.101265</td>\n",
       "      <td>0.033755</td>\n",
       "      <td>404</td>\n",
       "      <td>11</td>\n",
       "      <td>0.681414</td>\n",
       "    </tr>\n",
       "    <tr>\n",
       "      <th>8183</th>\n",
       "      <td>(0, 1, 2, 3, 4, 5, 7, 8, 9, 10, 11, 12)</td>\n",
       "      <td>[0.617975283389933, 0.809243898043696, 0.65274...</td>\n",
       "      <td>0.690373</td>\n",
       "      <td>(0, 1, 2, 3, 4, 5, 7, 8, 9, 10, 11, 12)</td>\n",
       "      <td>0.078243</td>\n",
       "      <td>0.105348</td>\n",
       "      <td>0.035116</td>\n",
       "      <td>404</td>\n",
       "      <td>12</td>\n",
       "      <td>0.680871</td>\n",
       "    </tr>\n",
       "    <tr>\n",
       "      <th>8164</th>\n",
       "      <td>(0, 3, 4, 5, 6, 7, 8, 9, 10, 11, 12)</td>\n",
       "      <td>[0.6011462005712245, 0.8004653998340787, 0.647...</td>\n",
       "      <td>0.688572</td>\n",
       "      <td>(0, 3, 4, 5, 6, 7, 8, 9, 10, 11, 12)</td>\n",
       "      <td>0.075562</td>\n",
       "      <td>0.101738</td>\n",
       "      <td>0.033913</td>\n",
       "      <td>404</td>\n",
       "      <td>11</td>\n",
       "      <td>0.679833</td>\n",
       "    </tr>\n",
       "    <tr>\n",
       "      <th>...</th>\n",
       "      <td>...</td>\n",
       "      <td>...</td>\n",
       "      <td>...</td>\n",
       "      <td>...</td>\n",
       "      <td>...</td>\n",
       "      <td>...</td>\n",
       "      <td>...</td>\n",
       "      <td>...</td>\n",
       "      <td>...</td>\n",
       "      <td>...</td>\n",
       "    </tr>\n",
       "    <tr>\n",
       "      <th>0</th>\n",
       "      <td>(0,)</td>\n",
       "      <td>[0.21114948846401937, 0.05617257789397889, 0.1...</td>\n",
       "      <td>0.090584</td>\n",
       "      <td>(0,)</td>\n",
       "      <td>0.058456</td>\n",
       "      <td>0.078706</td>\n",
       "      <td>0.026235</td>\n",
       "      <td>404</td>\n",
       "      <td>1</td>\n",
       "      <td>0.088321</td>\n",
       "    </tr>\n",
       "    <tr>\n",
       "      <th>1</th>\n",
       "      <td>(1,)</td>\n",
       "      <td>[0.10024498418931094, 0.057415019085727104, -0...</td>\n",
       "      <td>0.08041</td>\n",
       "      <td>(1,)</td>\n",
       "      <td>0.059363</td>\n",
       "      <td>0.079927</td>\n",
       "      <td>0.026642</td>\n",
       "      <td>404</td>\n",
       "      <td>1</td>\n",
       "      <td>0.078122</td>\n",
       "    </tr>\n",
       "    <tr>\n",
       "      <th>30</th>\n",
       "      <td>(1, 7)</td>\n",
       "      <td>[0.10039807747216667, 0.03616860718050863, -0....</td>\n",
       "      <td>0.070362</td>\n",
       "      <td>(1, 7)</td>\n",
       "      <td>0.061171</td>\n",
       "      <td>0.082361</td>\n",
       "      <td>0.027454</td>\n",
       "      <td>404</td>\n",
       "      <td>2</td>\n",
       "      <td>0.065726</td>\n",
       "    </tr>\n",
       "    <tr>\n",
       "      <th>7</th>\n",
       "      <td>(7,)</td>\n",
       "      <td>[0.09784323368776848, -0.0634713321307947, -0....</td>\n",
       "      <td>0.027929</td>\n",
       "      <td>(7,)</td>\n",
       "      <td>0.068829</td>\n",
       "      <td>0.092673</td>\n",
       "      <td>0.030891</td>\n",
       "      <td>404</td>\n",
       "      <td>1</td>\n",
       "      <td>0.025511</td>\n",
       "    </tr>\n",
       "    <tr>\n",
       "      <th>3</th>\n",
       "      <td>(3,)</td>\n",
       "      <td>[0.07730135125361781, 0.035964826531153404, -0...</td>\n",
       "      <td>0.027614</td>\n",
       "      <td>(3,)</td>\n",
       "      <td>0.049668</td>\n",
       "      <td>0.066874</td>\n",
       "      <td>0.022291</td>\n",
       "      <td>404</td>\n",
       "      <td>1</td>\n",
       "      <td>0.025195</td>\n",
       "    </tr>\n",
       "  </tbody>\n",
       "</table>\n",
       "<p>8191 rows × 10 columns</p>\n",
       "</div>"
      ],
      "text/plain": [
       "                                  feature_idx  \\\n",
       "8029        (0, 3, 4, 5, 7, 8, 9, 10, 11, 12)   \n",
       "8150     (0, 1, 3, 4, 5, 7, 8, 9, 10, 11, 12)   \n",
       "8160     (0, 2, 3, 4, 5, 7, 8, 9, 10, 11, 12)   \n",
       "8183  (0, 1, 2, 3, 4, 5, 7, 8, 9, 10, 11, 12)   \n",
       "8164     (0, 3, 4, 5, 6, 7, 8, 9, 10, 11, 12)   \n",
       "...                                       ...   \n",
       "0                                        (0,)   \n",
       "1                                        (1,)   \n",
       "30                                     (1, 7)   \n",
       "7                                        (7,)   \n",
       "3                                        (3,)   \n",
       "\n",
       "                                              cv_scores avg_score  \\\n",
       "8029  [0.6074602842383303, 0.8005826789942025, 0.647...  0.690479   \n",
       "8150  [0.6181802912059224, 0.8096041951792724, 0.652...  0.690802   \n",
       "8160  [0.6074758898705045, 0.7999812169543883, 0.648...   0.69011   \n",
       "8183  [0.617975283389933, 0.809243898043696, 0.65274...  0.690373   \n",
       "8164  [0.6011462005712245, 0.8004653998340787, 0.647...  0.688572   \n",
       "...                                                 ...       ...   \n",
       "0     [0.21114948846401937, 0.05617257789397889, 0.1...  0.090584   \n",
       "1     [0.10024498418931094, 0.057415019085727104, -0...   0.08041   \n",
       "30    [0.10039807747216667, 0.03616860718050863, -0....  0.070362   \n",
       "7     [0.09784323368776848, -0.0634713321307947, -0....  0.027929   \n",
       "3     [0.07730135125361781, 0.035964826531153404, -0...  0.027614   \n",
       "\n",
       "                                feature_names  ci_bound   std_dev   std_err  \\\n",
       "8029        (0, 3, 4, 5, 7, 8, 9, 10, 11, 12)  0.075194  0.101243  0.033748   \n",
       "8150     (0, 1, 3, 4, 5, 7, 8, 9, 10, 11, 12)  0.078195  0.105283  0.035094   \n",
       "8160     (0, 2, 3, 4, 5, 7, 8, 9, 10, 11, 12)  0.075211  0.101265  0.033755   \n",
       "8183  (0, 1, 2, 3, 4, 5, 7, 8, 9, 10, 11, 12)  0.078243  0.105348  0.035116   \n",
       "8164     (0, 3, 4, 5, 6, 7, 8, 9, 10, 11, 12)  0.075562  0.101738  0.033913   \n",
       "...                                       ...       ...       ...       ...   \n",
       "0                                        (0,)  0.058456  0.078706  0.026235   \n",
       "1                                        (1,)  0.059363  0.079927  0.026642   \n",
       "30                                     (1, 7)  0.061171  0.082361  0.027454   \n",
       "7                                        (7,)  0.068829  0.092673  0.030891   \n",
       "3                                        (3,)  0.049668  0.066874  0.022291   \n",
       "\n",
       "      observations  num_features adjusted_r2  \n",
       "8029           404            10    0.682603  \n",
       "8150           404            11    0.682125  \n",
       "8160           404            11    0.681414  \n",
       "8183           404            12    0.680871  \n",
       "8164           404            11    0.679833  \n",
       "...            ...           ...         ...  \n",
       "0              404             1    0.088321  \n",
       "1              404             1    0.078122  \n",
       "30             404             2    0.065726  \n",
       "7              404             1    0.025511  \n",
       "3              404             1    0.025195  \n",
       "\n",
       "[8191 rows x 10 columns]"
      ]
     },
     "execution_count": 100,
     "metadata": {},
     "output_type": "execute_result"
    }
   ],
   "source": [
    "metric_data.sort_values('adjusted_r2',ascending=False)"
   ]
  },
  {
   "cell_type": "code",
   "execution_count": 101,
   "id": "dec40218",
   "metadata": {},
   "outputs": [],
   "source": [
    "x_train_sel = fture_sel.transform(x_train_scaled)\n",
    "x_test_sel = fture_sel.transform(x_test_scaled)"
   ]
  },
  {
   "cell_type": "code",
   "execution_count": 104,
   "id": "309c0f9e",
   "metadata": {},
   "outputs": [
    {
     "name": "stdout",
     "output_type": "stream",
     "text": [
      "Training score for Linear Regression model using EFS: 0.7064800467817652\n",
      "Testing score for Linear Regression model using EFS: 0.6801687887814346\n"
     ]
    }
   ],
   "source": [
    "import numpy as np\n",
    "print(f'Training score for Linear Regression model using EFS: {np.mean(cross_val_score(linear,x_train_sel,y_train,scoring=\"r2\"))}')\n",
    "print(f'Testing score for Linear Regression model using EFS: {np.mean(cross_val_score(linear,x_test_sel,y_test,scoring=\"r2\"))}')"
   ]
  },
  {
   "cell_type": "markdown",
   "id": "0c14a426",
   "metadata": {},
   "source": [
    "### We can clearly see that testing score has been increased almost 10 percent\n",
    "- EFS is a lengthy and complex procedure thats why it must be used only if we have columns less than 15 as it check combination with each column have complexity (2^n -1) thats why we use other techniques  "
   ]
  },
  {
   "cell_type": "markdown",
   "id": "d840d32a",
   "metadata": {},
   "source": [
    "### Step-2: Sequential Forward Elimination:"
   ]
  },
  {
   "cell_type": "code",
   "execution_count": 109,
   "id": "d73aba07",
   "metadata": {},
   "outputs": [],
   "source": [
    "from sklearn.datasets import load_boston\n",
    "boston = load_boston()"
   ]
  },
  {
   "cell_type": "code",
   "execution_count": 110,
   "id": "2599c789",
   "metadata": {},
   "outputs": [
    {
     "data": {
      "text/plain": [
       "array([[6.3200e-03, 1.8000e+01, 2.3100e+00, ..., 1.5300e+01, 3.9690e+02,\n",
       "        4.9800e+00],\n",
       "       [2.7310e-02, 0.0000e+00, 7.0700e+00, ..., 1.7800e+01, 3.9690e+02,\n",
       "        9.1400e+00],\n",
       "       [2.7290e-02, 0.0000e+00, 7.0700e+00, ..., 1.7800e+01, 3.9283e+02,\n",
       "        4.0300e+00],\n",
       "       ...,\n",
       "       [6.0760e-02, 0.0000e+00, 1.1930e+01, ..., 2.1000e+01, 3.9690e+02,\n",
       "        5.6400e+00],\n",
       "       [1.0959e-01, 0.0000e+00, 1.1930e+01, ..., 2.1000e+01, 3.9345e+02,\n",
       "        6.4800e+00],\n",
       "       [4.7410e-02, 0.0000e+00, 1.1930e+01, ..., 2.1000e+01, 3.9690e+02,\n",
       "        7.8800e+00]])"
      ]
     },
     "execution_count": 110,
     "metadata": {},
     "output_type": "execute_result"
    }
   ],
   "source": [
    "boston.data"
   ]
  },
  {
   "cell_type": "code",
   "execution_count": 111,
   "id": "a537441d",
   "metadata": {},
   "outputs": [
    {
     "data": {
      "text/html": [
       "<div>\n",
       "<style scoped>\n",
       "    .dataframe tbody tr th:only-of-type {\n",
       "        vertical-align: middle;\n",
       "    }\n",
       "\n",
       "    .dataframe tbody tr th {\n",
       "        vertical-align: top;\n",
       "    }\n",
       "\n",
       "    .dataframe thead th {\n",
       "        text-align: right;\n",
       "    }\n",
       "</style>\n",
       "<table border=\"1\" class=\"dataframe\">\n",
       "  <thead>\n",
       "    <tr style=\"text-align: right;\">\n",
       "      <th></th>\n",
       "      <th>CRIM</th>\n",
       "      <th>ZN</th>\n",
       "      <th>INDUS</th>\n",
       "      <th>CHAS</th>\n",
       "      <th>NOX</th>\n",
       "      <th>RM</th>\n",
       "      <th>AGE</th>\n",
       "      <th>DIS</th>\n",
       "      <th>RAD</th>\n",
       "      <th>TAX</th>\n",
       "      <th>PTRATIO</th>\n",
       "      <th>B</th>\n",
       "      <th>LSTAT</th>\n",
       "    </tr>\n",
       "  </thead>\n",
       "  <tbody>\n",
       "    <tr>\n",
       "      <th>0</th>\n",
       "      <td>0.00632</td>\n",
       "      <td>18.0</td>\n",
       "      <td>2.31</td>\n",
       "      <td>0.0</td>\n",
       "      <td>0.538</td>\n",
       "      <td>6.575</td>\n",
       "      <td>65.2</td>\n",
       "      <td>4.0900</td>\n",
       "      <td>1.0</td>\n",
       "      <td>296.0</td>\n",
       "      <td>15.3</td>\n",
       "      <td>396.90</td>\n",
       "      <td>4.98</td>\n",
       "    </tr>\n",
       "    <tr>\n",
       "      <th>1</th>\n",
       "      <td>0.02731</td>\n",
       "      <td>0.0</td>\n",
       "      <td>7.07</td>\n",
       "      <td>0.0</td>\n",
       "      <td>0.469</td>\n",
       "      <td>6.421</td>\n",
       "      <td>78.9</td>\n",
       "      <td>4.9671</td>\n",
       "      <td>2.0</td>\n",
       "      <td>242.0</td>\n",
       "      <td>17.8</td>\n",
       "      <td>396.90</td>\n",
       "      <td>9.14</td>\n",
       "    </tr>\n",
       "    <tr>\n",
       "      <th>2</th>\n",
       "      <td>0.02729</td>\n",
       "      <td>0.0</td>\n",
       "      <td>7.07</td>\n",
       "      <td>0.0</td>\n",
       "      <td>0.469</td>\n",
       "      <td>7.185</td>\n",
       "      <td>61.1</td>\n",
       "      <td>4.9671</td>\n",
       "      <td>2.0</td>\n",
       "      <td>242.0</td>\n",
       "      <td>17.8</td>\n",
       "      <td>392.83</td>\n",
       "      <td>4.03</td>\n",
       "    </tr>\n",
       "    <tr>\n",
       "      <th>3</th>\n",
       "      <td>0.03237</td>\n",
       "      <td>0.0</td>\n",
       "      <td>2.18</td>\n",
       "      <td>0.0</td>\n",
       "      <td>0.458</td>\n",
       "      <td>6.998</td>\n",
       "      <td>45.8</td>\n",
       "      <td>6.0622</td>\n",
       "      <td>3.0</td>\n",
       "      <td>222.0</td>\n",
       "      <td>18.7</td>\n",
       "      <td>394.63</td>\n",
       "      <td>2.94</td>\n",
       "    </tr>\n",
       "    <tr>\n",
       "      <th>4</th>\n",
       "      <td>0.06905</td>\n",
       "      <td>0.0</td>\n",
       "      <td>2.18</td>\n",
       "      <td>0.0</td>\n",
       "      <td>0.458</td>\n",
       "      <td>7.147</td>\n",
       "      <td>54.2</td>\n",
       "      <td>6.0622</td>\n",
       "      <td>3.0</td>\n",
       "      <td>222.0</td>\n",
       "      <td>18.7</td>\n",
       "      <td>396.90</td>\n",
       "      <td>5.33</td>\n",
       "    </tr>\n",
       "  </tbody>\n",
       "</table>\n",
       "</div>"
      ],
      "text/plain": [
       "      CRIM    ZN  INDUS  CHAS    NOX     RM   AGE     DIS  RAD    TAX  \\\n",
       "0  0.00632  18.0   2.31   0.0  0.538  6.575  65.2  4.0900  1.0  296.0   \n",
       "1  0.02731   0.0   7.07   0.0  0.469  6.421  78.9  4.9671  2.0  242.0   \n",
       "2  0.02729   0.0   7.07   0.0  0.469  7.185  61.1  4.9671  2.0  242.0   \n",
       "3  0.03237   0.0   2.18   0.0  0.458  6.998  45.8  6.0622  3.0  222.0   \n",
       "4  0.06905   0.0   2.18   0.0  0.458  7.147  54.2  6.0622  3.0  222.0   \n",
       "\n",
       "   PTRATIO       B  LSTAT  \n",
       "0     15.3  396.90   4.98  \n",
       "1     17.8  396.90   9.14  \n",
       "2     17.8  392.83   4.03  \n",
       "3     18.7  394.63   2.94  \n",
       "4     18.7  396.90   5.33  "
      ]
     },
     "execution_count": 111,
     "metadata": {},
     "output_type": "execute_result"
    }
   ],
   "source": [
    "house = pd.DataFrame(boston.data,columns=boston.feature_names)\n",
    "house.head()"
   ]
  },
  {
   "cell_type": "code",
   "execution_count": 112,
   "id": "ec78faec",
   "metadata": {},
   "outputs": [
    {
     "data": {
      "text/html": [
       "<div>\n",
       "<style scoped>\n",
       "    .dataframe tbody tr th:only-of-type {\n",
       "        vertical-align: middle;\n",
       "    }\n",
       "\n",
       "    .dataframe tbody tr th {\n",
       "        vertical-align: top;\n",
       "    }\n",
       "\n",
       "    .dataframe thead th {\n",
       "        text-align: right;\n",
       "    }\n",
       "</style>\n",
       "<table border=\"1\" class=\"dataframe\">\n",
       "  <thead>\n",
       "    <tr style=\"text-align: right;\">\n",
       "      <th></th>\n",
       "      <th>CRIM</th>\n",
       "      <th>ZN</th>\n",
       "      <th>INDUS</th>\n",
       "      <th>CHAS</th>\n",
       "      <th>NOX</th>\n",
       "      <th>RM</th>\n",
       "      <th>AGE</th>\n",
       "      <th>DIS</th>\n",
       "      <th>RAD</th>\n",
       "      <th>TAX</th>\n",
       "      <th>PTRATIO</th>\n",
       "      <th>B</th>\n",
       "      <th>LSTAT</th>\n",
       "      <th>medv</th>\n",
       "    </tr>\n",
       "  </thead>\n",
       "  <tbody>\n",
       "    <tr>\n",
       "      <th>0</th>\n",
       "      <td>0.00632</td>\n",
       "      <td>18.0</td>\n",
       "      <td>2.31</td>\n",
       "      <td>0.0</td>\n",
       "      <td>0.538</td>\n",
       "      <td>6.575</td>\n",
       "      <td>65.2</td>\n",
       "      <td>4.0900</td>\n",
       "      <td>1.0</td>\n",
       "      <td>296.0</td>\n",
       "      <td>15.3</td>\n",
       "      <td>396.90</td>\n",
       "      <td>4.98</td>\n",
       "      <td>24.0</td>\n",
       "    </tr>\n",
       "    <tr>\n",
       "      <th>1</th>\n",
       "      <td>0.02731</td>\n",
       "      <td>0.0</td>\n",
       "      <td>7.07</td>\n",
       "      <td>0.0</td>\n",
       "      <td>0.469</td>\n",
       "      <td>6.421</td>\n",
       "      <td>78.9</td>\n",
       "      <td>4.9671</td>\n",
       "      <td>2.0</td>\n",
       "      <td>242.0</td>\n",
       "      <td>17.8</td>\n",
       "      <td>396.90</td>\n",
       "      <td>9.14</td>\n",
       "      <td>21.6</td>\n",
       "    </tr>\n",
       "    <tr>\n",
       "      <th>2</th>\n",
       "      <td>0.02729</td>\n",
       "      <td>0.0</td>\n",
       "      <td>7.07</td>\n",
       "      <td>0.0</td>\n",
       "      <td>0.469</td>\n",
       "      <td>7.185</td>\n",
       "      <td>61.1</td>\n",
       "      <td>4.9671</td>\n",
       "      <td>2.0</td>\n",
       "      <td>242.0</td>\n",
       "      <td>17.8</td>\n",
       "      <td>392.83</td>\n",
       "      <td>4.03</td>\n",
       "      <td>34.7</td>\n",
       "    </tr>\n",
       "    <tr>\n",
       "      <th>3</th>\n",
       "      <td>0.03237</td>\n",
       "      <td>0.0</td>\n",
       "      <td>2.18</td>\n",
       "      <td>0.0</td>\n",
       "      <td>0.458</td>\n",
       "      <td>6.998</td>\n",
       "      <td>45.8</td>\n",
       "      <td>6.0622</td>\n",
       "      <td>3.0</td>\n",
       "      <td>222.0</td>\n",
       "      <td>18.7</td>\n",
       "      <td>394.63</td>\n",
       "      <td>2.94</td>\n",
       "      <td>33.4</td>\n",
       "    </tr>\n",
       "    <tr>\n",
       "      <th>4</th>\n",
       "      <td>0.06905</td>\n",
       "      <td>0.0</td>\n",
       "      <td>2.18</td>\n",
       "      <td>0.0</td>\n",
       "      <td>0.458</td>\n",
       "      <td>7.147</td>\n",
       "      <td>54.2</td>\n",
       "      <td>6.0622</td>\n",
       "      <td>3.0</td>\n",
       "      <td>222.0</td>\n",
       "      <td>18.7</td>\n",
       "      <td>396.90</td>\n",
       "      <td>5.33</td>\n",
       "      <td>36.2</td>\n",
       "    </tr>\n",
       "  </tbody>\n",
       "</table>\n",
       "</div>"
      ],
      "text/plain": [
       "      CRIM    ZN  INDUS  CHAS    NOX     RM   AGE     DIS  RAD    TAX  \\\n",
       "0  0.00632  18.0   2.31   0.0  0.538  6.575  65.2  4.0900  1.0  296.0   \n",
       "1  0.02731   0.0   7.07   0.0  0.469  6.421  78.9  4.9671  2.0  242.0   \n",
       "2  0.02729   0.0   7.07   0.0  0.469  7.185  61.1  4.9671  2.0  242.0   \n",
       "3  0.03237   0.0   2.18   0.0  0.458  6.998  45.8  6.0622  3.0  222.0   \n",
       "4  0.06905   0.0   2.18   0.0  0.458  7.147  54.2  6.0622  3.0  222.0   \n",
       "\n",
       "   PTRATIO       B  LSTAT  medv  \n",
       "0     15.3  396.90   4.98  24.0  \n",
       "1     17.8  396.90   9.14  21.6  \n",
       "2     17.8  392.83   4.03  34.7  \n",
       "3     18.7  394.63   2.94  33.4  \n",
       "4     18.7  396.90   5.33  36.2  "
      ]
     },
     "execution_count": 112,
     "metadata": {},
     "output_type": "execute_result"
    }
   ],
   "source": [
    "house['medv'] = boston.target\n",
    "house.head()"
   ]
  },
  {
   "cell_type": "code",
   "execution_count": 113,
   "id": "08b31270",
   "metadata": {},
   "outputs": [],
   "source": [
    "from sklearn.model_selection import train_test_split\n",
    "\n",
    "x = house.drop('medv',axis=1)\n",
    "y = house['medv']\n",
    "\n",
    "x_train,x_test,y_train,y_test = train_test_split(x,y,test_size=0.2,random_state=2)"
   ]
  },
  {
   "cell_type": "code",
   "execution_count": 115,
   "id": "9d50ab60",
   "metadata": {},
   "outputs": [
    {
     "data": {
      "text/plain": [
       "(102, 13)"
      ]
     },
     "execution_count": 115,
     "metadata": {},
     "output_type": "execute_result"
    }
   ],
   "source": [
    "x_test.shape"
   ]
  },
  {
   "cell_type": "code",
   "execution_count": 116,
   "id": "53f028bf",
   "metadata": {},
   "outputs": [],
   "source": [
    "from sklearn.preprocessing import StandardScaler\n",
    "scaled = StandardScaler()\n",
    "x_train_scaled = scaled.fit_transform(x_train)\n",
    "x_test_scaled = scaled.transform(x_test)"
   ]
  },
  {
   "cell_type": "code",
   "execution_count": 118,
   "id": "ca586b16",
   "metadata": {},
   "outputs": [
    {
     "data": {
      "text/html": [
       "<style>#sk-container-id-1 {color: black;background-color: white;}#sk-container-id-1 pre{padding: 0;}#sk-container-id-1 div.sk-toggleable {background-color: white;}#sk-container-id-1 label.sk-toggleable__label {cursor: pointer;display: block;width: 100%;margin-bottom: 0;padding: 0.3em;box-sizing: border-box;text-align: center;}#sk-container-id-1 label.sk-toggleable__label-arrow:before {content: \"▸\";float: left;margin-right: 0.25em;color: #696969;}#sk-container-id-1 label.sk-toggleable__label-arrow:hover:before {color: black;}#sk-container-id-1 div.sk-estimator:hover label.sk-toggleable__label-arrow:before {color: black;}#sk-container-id-1 div.sk-toggleable__content {max-height: 0;max-width: 0;overflow: hidden;text-align: left;background-color: #f0f8ff;}#sk-container-id-1 div.sk-toggleable__content pre {margin: 0.2em;color: black;border-radius: 0.25em;background-color: #f0f8ff;}#sk-container-id-1 input.sk-toggleable__control:checked~div.sk-toggleable__content {max-height: 200px;max-width: 100%;overflow: auto;}#sk-container-id-1 input.sk-toggleable__control:checked~label.sk-toggleable__label-arrow:before {content: \"▾\";}#sk-container-id-1 div.sk-estimator input.sk-toggleable__control:checked~label.sk-toggleable__label {background-color: #d4ebff;}#sk-container-id-1 div.sk-label input.sk-toggleable__control:checked~label.sk-toggleable__label {background-color: #d4ebff;}#sk-container-id-1 input.sk-hidden--visually {border: 0;clip: rect(1px 1px 1px 1px);clip: rect(1px, 1px, 1px, 1px);height: 1px;margin: -1px;overflow: hidden;padding: 0;position: absolute;width: 1px;}#sk-container-id-1 div.sk-estimator {font-family: monospace;background-color: #f0f8ff;border: 1px dotted black;border-radius: 0.25em;box-sizing: border-box;margin-bottom: 0.5em;}#sk-container-id-1 div.sk-estimator:hover {background-color: #d4ebff;}#sk-container-id-1 div.sk-parallel-item::after {content: \"\";width: 100%;border-bottom: 1px solid gray;flex-grow: 1;}#sk-container-id-1 div.sk-label:hover label.sk-toggleable__label {background-color: #d4ebff;}#sk-container-id-1 div.sk-serial::before {content: \"\";position: absolute;border-left: 1px solid gray;box-sizing: border-box;top: 0;bottom: 0;left: 50%;z-index: 0;}#sk-container-id-1 div.sk-serial {display: flex;flex-direction: column;align-items: center;background-color: white;padding-right: 0.2em;padding-left: 0.2em;position: relative;}#sk-container-id-1 div.sk-item {position: relative;z-index: 1;}#sk-container-id-1 div.sk-parallel {display: flex;align-items: stretch;justify-content: center;background-color: white;position: relative;}#sk-container-id-1 div.sk-item::before, #sk-container-id-1 div.sk-parallel-item::before {content: \"\";position: absolute;border-left: 1px solid gray;box-sizing: border-box;top: 0;bottom: 0;left: 50%;z-index: -1;}#sk-container-id-1 div.sk-parallel-item {display: flex;flex-direction: column;z-index: 1;position: relative;background-color: white;}#sk-container-id-1 div.sk-parallel-item:first-child::after {align-self: flex-end;width: 50%;}#sk-container-id-1 div.sk-parallel-item:last-child::after {align-self: flex-start;width: 50%;}#sk-container-id-1 div.sk-parallel-item:only-child::after {width: 0;}#sk-container-id-1 div.sk-dashed-wrapped {border: 1px dashed gray;margin: 0 0.4em 0.5em 0.4em;box-sizing: border-box;padding-bottom: 0.4em;background-color: white;}#sk-container-id-1 div.sk-label label {font-family: monospace;font-weight: bold;display: inline-block;line-height: 1.2em;}#sk-container-id-1 div.sk-label-container {text-align: center;}#sk-container-id-1 div.sk-container {/* jupyter's `normalize.less` sets `[hidden] { display: none; }` but bootstrap.min.css set `[hidden] { display: none !important; }` so we also need the `!important` here to be able to override the default hidden behavior on the sphinx rendered scikit-learn.org. See: https://github.com/scikit-learn/scikit-learn/issues/21755 */display: inline-block !important;position: relative;}#sk-container-id-1 div.sk-text-repr-fallback {display: none;}</style><div id=\"sk-container-id-1\" class=\"sk-top-container\"><div class=\"sk-text-repr-fallback\"><pre>LinearRegression()</pre><b>In a Jupyter environment, please rerun this cell to show the HTML representation or trust the notebook. <br />On GitHub, the HTML representation is unable to render, please try loading this page with nbviewer.org.</b></div><div class=\"sk-container\" hidden><div class=\"sk-item\"><div class=\"sk-estimator sk-toggleable\"><input class=\"sk-toggleable__control sk-hidden--visually\" id=\"sk-estimator-id-1\" type=\"checkbox\" checked><label for=\"sk-estimator-id-1\" class=\"sk-toggleable__label sk-toggleable__label-arrow\">LinearRegression</label><div class=\"sk-toggleable__content\"><pre>LinearRegression()</pre></div></div></div></div></div>"
      ],
      "text/plain": [
       "LinearRegression()"
      ]
     },
     "execution_count": 118,
     "metadata": {},
     "output_type": "execute_result"
    }
   ],
   "source": [
    "lr = LinearRegression()\n",
    "lr.fit(x_train,y_train)"
   ]
  },
  {
   "cell_type": "code",
   "execution_count": 120,
   "id": "3eeec6c6",
   "metadata": {},
   "outputs": [
    {
     "name": "stdout",
     "output_type": "stream",
     "text": [
      "training: 0.7050401205374819\n",
      "testing: 0.688158464261728\n"
     ]
    }
   ],
   "source": [
    "print(f'training: {np.mean(cross_val_score(lr,x_train_scaled,y_train,cv=5,scoring=\"r2\"))}')\n",
    "print(f'testing: {np.mean(cross_val_score(lr,x_test_scaled,y_test,cv=5,scoring=\"r2\"))}')"
   ]
  },
  {
   "cell_type": "code",
   "execution_count": 125,
   "id": "9ad6861c",
   "metadata": {},
   "outputs": [
    {
     "data": {
      "text/html": [
       "<style>#sk-container-id-2 {color: black;background-color: white;}#sk-container-id-2 pre{padding: 0;}#sk-container-id-2 div.sk-toggleable {background-color: white;}#sk-container-id-2 label.sk-toggleable__label {cursor: pointer;display: block;width: 100%;margin-bottom: 0;padding: 0.3em;box-sizing: border-box;text-align: center;}#sk-container-id-2 label.sk-toggleable__label-arrow:before {content: \"▸\";float: left;margin-right: 0.25em;color: #696969;}#sk-container-id-2 label.sk-toggleable__label-arrow:hover:before {color: black;}#sk-container-id-2 div.sk-estimator:hover label.sk-toggleable__label-arrow:before {color: black;}#sk-container-id-2 div.sk-toggleable__content {max-height: 0;max-width: 0;overflow: hidden;text-align: left;background-color: #f0f8ff;}#sk-container-id-2 div.sk-toggleable__content pre {margin: 0.2em;color: black;border-radius: 0.25em;background-color: #f0f8ff;}#sk-container-id-2 input.sk-toggleable__control:checked~div.sk-toggleable__content {max-height: 200px;max-width: 100%;overflow: auto;}#sk-container-id-2 input.sk-toggleable__control:checked~label.sk-toggleable__label-arrow:before {content: \"▾\";}#sk-container-id-2 div.sk-estimator input.sk-toggleable__control:checked~label.sk-toggleable__label {background-color: #d4ebff;}#sk-container-id-2 div.sk-label input.sk-toggleable__control:checked~label.sk-toggleable__label {background-color: #d4ebff;}#sk-container-id-2 input.sk-hidden--visually {border: 0;clip: rect(1px 1px 1px 1px);clip: rect(1px, 1px, 1px, 1px);height: 1px;margin: -1px;overflow: hidden;padding: 0;position: absolute;width: 1px;}#sk-container-id-2 div.sk-estimator {font-family: monospace;background-color: #f0f8ff;border: 1px dotted black;border-radius: 0.25em;box-sizing: border-box;margin-bottom: 0.5em;}#sk-container-id-2 div.sk-estimator:hover {background-color: #d4ebff;}#sk-container-id-2 div.sk-parallel-item::after {content: \"\";width: 100%;border-bottom: 1px solid gray;flex-grow: 1;}#sk-container-id-2 div.sk-label:hover label.sk-toggleable__label {background-color: #d4ebff;}#sk-container-id-2 div.sk-serial::before {content: \"\";position: absolute;border-left: 1px solid gray;box-sizing: border-box;top: 0;bottom: 0;left: 50%;z-index: 0;}#sk-container-id-2 div.sk-serial {display: flex;flex-direction: column;align-items: center;background-color: white;padding-right: 0.2em;padding-left: 0.2em;position: relative;}#sk-container-id-2 div.sk-item {position: relative;z-index: 1;}#sk-container-id-2 div.sk-parallel {display: flex;align-items: stretch;justify-content: center;background-color: white;position: relative;}#sk-container-id-2 div.sk-item::before, #sk-container-id-2 div.sk-parallel-item::before {content: \"\";position: absolute;border-left: 1px solid gray;box-sizing: border-box;top: 0;bottom: 0;left: 50%;z-index: -1;}#sk-container-id-2 div.sk-parallel-item {display: flex;flex-direction: column;z-index: 1;position: relative;background-color: white;}#sk-container-id-2 div.sk-parallel-item:first-child::after {align-self: flex-end;width: 50%;}#sk-container-id-2 div.sk-parallel-item:last-child::after {align-self: flex-start;width: 50%;}#sk-container-id-2 div.sk-parallel-item:only-child::after {width: 0;}#sk-container-id-2 div.sk-dashed-wrapped {border: 1px dashed gray;margin: 0 0.4em 0.5em 0.4em;box-sizing: border-box;padding-bottom: 0.4em;background-color: white;}#sk-container-id-2 div.sk-label label {font-family: monospace;font-weight: bold;display: inline-block;line-height: 1.2em;}#sk-container-id-2 div.sk-label-container {text-align: center;}#sk-container-id-2 div.sk-container {/* jupyter's `normalize.less` sets `[hidden] { display: none; }` but bootstrap.min.css set `[hidden] { display: none !important; }` so we also need the `!important` here to be able to override the default hidden behavior on the sphinx rendered scikit-learn.org. See: https://github.com/scikit-learn/scikit-learn/issues/21755 */display: inline-block !important;position: relative;}#sk-container-id-2 div.sk-text-repr-fallback {display: none;}</style><div id=\"sk-container-id-2\" class=\"sk-top-container\"><div class=\"sk-text-repr-fallback\"><pre>SequentialFeatureSelector(estimator=LinearRegression(), k_features=(1, 13),\n",
       "                          scoring=&#x27;r2&#x27;)</pre><b>In a Jupyter environment, please rerun this cell to show the HTML representation or trust the notebook. <br />On GitHub, the HTML representation is unable to render, please try loading this page with nbviewer.org.</b></div><div class=\"sk-container\" hidden><div class=\"sk-item sk-dashed-wrapped\"><div class=\"sk-label-container\"><div class=\"sk-label sk-toggleable\"><input class=\"sk-toggleable__control sk-hidden--visually\" id=\"sk-estimator-id-2\" type=\"checkbox\" ><label for=\"sk-estimator-id-2\" class=\"sk-toggleable__label sk-toggleable__label-arrow\">SequentialFeatureSelector</label><div class=\"sk-toggleable__content\"><pre>SequentialFeatureSelector(estimator=LinearRegression(), k_features=(1, 13),\n",
       "                          scoring=&#x27;r2&#x27;)</pre></div></div></div><div class=\"sk-parallel\"><div class=\"sk-parallel-item\"><div class=\"sk-item\"><div class=\"sk-label-container\"><div class=\"sk-label sk-toggleable\"><input class=\"sk-toggleable__control sk-hidden--visually\" id=\"sk-estimator-id-3\" type=\"checkbox\" ><label for=\"sk-estimator-id-3\" class=\"sk-toggleable__label sk-toggleable__label-arrow\">estimator: LinearRegression</label><div class=\"sk-toggleable__content\"><pre>LinearRegression()</pre></div></div></div><div class=\"sk-serial\"><div class=\"sk-item\"><div class=\"sk-estimator sk-toggleable\"><input class=\"sk-toggleable__control sk-hidden--visually\" id=\"sk-estimator-id-4\" type=\"checkbox\" ><label for=\"sk-estimator-id-4\" class=\"sk-toggleable__label sk-toggleable__label-arrow\">LinearRegression</label><div class=\"sk-toggleable__content\"><pre>LinearRegression()</pre></div></div></div></div></div></div></div></div></div></div>"
      ],
      "text/plain": [
       "SequentialFeatureSelector(estimator=LinearRegression(), k_features=(1, 13),\n",
       "                          scoring='r2')"
      ]
     },
     "execution_count": 125,
     "metadata": {},
     "output_type": "execute_result"
    }
   ],
   "source": [
    "from mlxtend.feature_selection import SequentialFeatureSelector as SFS\n",
    "\n",
    "sfs = SFS(lr,k_features='best',forward=True,scoring='r2')\n",
    "sfs.fit(x_train,y_train)"
   ]
  },
  {
   "cell_type": "code",
   "execution_count": 131,
   "id": "8c94d3ec",
   "metadata": {},
   "outputs": [
    {
     "data": {
      "text/plain": [
       "(0, 1, 3, 4, 5, 7, 8, 9, 10, 11, 12)"
      ]
     },
     "execution_count": 131,
     "metadata": {},
     "output_type": "execute_result"
    }
   ],
   "source": [
    "sfs.k_feature_idx_"
   ]
  },
  {
   "cell_type": "code",
   "execution_count": 139,
   "id": "89aa1662",
   "metadata": {},
   "outputs": [
    {
     "data": {
      "text/html": [
       "<div>\n",
       "<style scoped>\n",
       "    .dataframe tbody tr th:only-of-type {\n",
       "        vertical-align: middle;\n",
       "    }\n",
       "\n",
       "    .dataframe tbody tr th {\n",
       "        vertical-align: top;\n",
       "    }\n",
       "\n",
       "    .dataframe thead th {\n",
       "        text-align: right;\n",
       "    }\n",
       "</style>\n",
       "<table border=\"1\" class=\"dataframe\">\n",
       "  <thead>\n",
       "    <tr style=\"text-align: right;\">\n",
       "      <th></th>\n",
       "      <th>feature_idx</th>\n",
       "      <th>cv_scores</th>\n",
       "      <th>avg_score</th>\n",
       "      <th>feature_names</th>\n",
       "      <th>ci_bound</th>\n",
       "      <th>std_dev</th>\n",
       "      <th>std_err</th>\n",
       "    </tr>\n",
       "  </thead>\n",
       "  <tbody>\n",
       "    <tr>\n",
       "      <th>1</th>\n",
       "      <td>(12,)</td>\n",
       "      <td>[0.5105776182714135, 0.5582189701867164, 0.460...</td>\n",
       "      <td>0.5117</td>\n",
       "      <td>(LSTAT,)</td>\n",
       "      <td>0.039979</td>\n",
       "      <td>0.031105</td>\n",
       "      <td>0.015552</td>\n",
       "    </tr>\n",
       "    <tr>\n",
       "      <th>2</th>\n",
       "      <td>(5, 12)</td>\n",
       "      <td>[0.6273470340408479, 0.6196588940131581, 0.502...</td>\n",
       "      <td>0.595175</td>\n",
       "      <td>(RM, LSTAT)</td>\n",
       "      <td>0.060292</td>\n",
       "      <td>0.046909</td>\n",
       "      <td>0.023454</td>\n",
       "    </tr>\n",
       "    <tr>\n",
       "      <th>3</th>\n",
       "      <td>(5, 10, 12)</td>\n",
       "      <td>[0.650718904385023, 0.6551950158210169, 0.5461...</td>\n",
       "      <td>0.641876</td>\n",
       "      <td>(RM, PTRATIO, LSTAT)</td>\n",
       "      <td>0.063392</td>\n",
       "      <td>0.049321</td>\n",
       "      <td>0.024661</td>\n",
       "    </tr>\n",
       "    <tr>\n",
       "      <th>4</th>\n",
       "      <td>(5, 7, 10, 12)</td>\n",
       "      <td>[0.6639573070541647, 0.6745827090626894, 0.573...</td>\n",
       "      <td>0.658268</td>\n",
       "      <td>(RM, DIS, PTRATIO, LSTAT)</td>\n",
       "      <td>0.055791</td>\n",
       "      <td>0.043407</td>\n",
       "      <td>0.021704</td>\n",
       "    </tr>\n",
       "    <tr>\n",
       "      <th>5</th>\n",
       "      <td>(5, 7, 10, 11, 12)</td>\n",
       "      <td>[0.6821339028381262, 0.6931087344856537, 0.560...</td>\n",
       "      <td>0.672946</td>\n",
       "      <td>(RM, DIS, PTRATIO, B, LSTAT)</td>\n",
       "      <td>0.075499</td>\n",
       "      <td>0.058741</td>\n",
       "      <td>0.029371</td>\n",
       "    </tr>\n",
       "    <tr>\n",
       "      <th>6</th>\n",
       "      <td>(3, 5, 7, 10, 11, 12)</td>\n",
       "      <td>[0.6878675577193645, 0.6867884323038753, 0.565...</td>\n",
       "      <td>0.68145</td>\n",
       "      <td>(CHAS, RM, DIS, PTRATIO, B, LSTAT)</td>\n",
       "      <td>0.080021</td>\n",
       "      <td>0.062259</td>\n",
       "      <td>0.031129</td>\n",
       "    </tr>\n",
       "    <tr>\n",
       "      <th>7</th>\n",
       "      <td>(3, 4, 5, 7, 10, 11, 12)</td>\n",
       "      <td>[0.7073779618588076, 0.7021952442859825, 0.560...</td>\n",
       "      <td>0.689103</td>\n",
       "      <td>(CHAS, NOX, RM, DIS, PTRATIO, B, LSTAT)</td>\n",
       "      <td>0.085153</td>\n",
       "      <td>0.066252</td>\n",
       "      <td>0.033126</td>\n",
       "    </tr>\n",
       "    <tr>\n",
       "      <th>8</th>\n",
       "      <td>(3, 4, 5, 7, 8, 10, 11, 12)</td>\n",
       "      <td>[0.7136162055751426, 0.7103513247754756, 0.570...</td>\n",
       "      <td>0.695514</td>\n",
       "      <td>(CHAS, NOX, RM, DIS, RAD, PTRATIO, B, LSTAT)</td>\n",
       "      <td>0.082191</td>\n",
       "      <td>0.063947</td>\n",
       "      <td>0.031974</td>\n",
       "    </tr>\n",
       "    <tr>\n",
       "      <th>9</th>\n",
       "      <td>(3, 4, 5, 7, 8, 9, 10, 11, 12)</td>\n",
       "      <td>[0.7225293092511473, 0.713513532737698, 0.5840...</td>\n",
       "      <td>0.70096</td>\n",
       "      <td>(CHAS, NOX, RM, DIS, RAD, TAX, PTRATIO, B, LSTAT)</td>\n",
       "      <td>0.07669</td>\n",
       "      <td>0.059667</td>\n",
       "      <td>0.029834</td>\n",
       "    </tr>\n",
       "    <tr>\n",
       "      <th>10</th>\n",
       "      <td>(0, 3, 4, 5, 7, 8, 9, 10, 11, 12)</td>\n",
       "      <td>[0.7332217561791099, 0.7082579836450691, 0.575...</td>\n",
       "      <td>0.704533</td>\n",
       "      <td>(CRIM, CHAS, NOX, RM, DIS, RAD, TAX, PTRATIO, ...</td>\n",
       "      <td>0.087209</td>\n",
       "      <td>0.067851</td>\n",
       "      <td>0.033926</td>\n",
       "    </tr>\n",
       "    <tr>\n",
       "      <th>11</th>\n",
       "      <td>(0, 1, 3, 4, 5, 7, 8, 9, 10, 11, 12)</td>\n",
       "      <td>[0.7412175937081463, 0.715106103987796, 0.5732...</td>\n",
       "      <td>0.70648</td>\n",
       "      <td>(CRIM, ZN, CHAS, NOX, RM, DIS, RAD, TAX, PTRAT...</td>\n",
       "      <td>0.089991</td>\n",
       "      <td>0.070016</td>\n",
       "      <td>0.035008</td>\n",
       "    </tr>\n",
       "    <tr>\n",
       "      <th>12</th>\n",
       "      <td>(0, 1, 2, 3, 4, 5, 7, 8, 9, 10, 11, 12)</td>\n",
       "      <td>[0.7407489962244724, 0.7151588113858567, 0.572...</td>\n",
       "      <td>0.706245</td>\n",
       "      <td>(CRIM, ZN, INDUS, CHAS, NOX, RM, DIS, RAD, TAX...</td>\n",
       "      <td>0.090302</td>\n",
       "      <td>0.070258</td>\n",
       "      <td>0.035129</td>\n",
       "    </tr>\n",
       "    <tr>\n",
       "      <th>13</th>\n",
       "      <td>(0, 1, 2, 3, 4, 5, 6, 7, 8, 9, 10, 11, 12)</td>\n",
       "      <td>[0.7411257145202399, 0.7157085282300105, 0.571...</td>\n",
       "      <td>0.70504</td>\n",
       "      <td>(CRIM, ZN, INDUS, CHAS, NOX, RM, AGE, DIS, RAD...</td>\n",
       "      <td>0.090403</td>\n",
       "      <td>0.070337</td>\n",
       "      <td>0.035168</td>\n",
       "    </tr>\n",
       "  </tbody>\n",
       "</table>\n",
       "</div>"
      ],
      "text/plain": [
       "                                   feature_idx  \\\n",
       "1                                        (12,)   \n",
       "2                                      (5, 12)   \n",
       "3                                  (5, 10, 12)   \n",
       "4                               (5, 7, 10, 12)   \n",
       "5                           (5, 7, 10, 11, 12)   \n",
       "6                        (3, 5, 7, 10, 11, 12)   \n",
       "7                     (3, 4, 5, 7, 10, 11, 12)   \n",
       "8                  (3, 4, 5, 7, 8, 10, 11, 12)   \n",
       "9               (3, 4, 5, 7, 8, 9, 10, 11, 12)   \n",
       "10           (0, 3, 4, 5, 7, 8, 9, 10, 11, 12)   \n",
       "11        (0, 1, 3, 4, 5, 7, 8, 9, 10, 11, 12)   \n",
       "12     (0, 1, 2, 3, 4, 5, 7, 8, 9, 10, 11, 12)   \n",
       "13  (0, 1, 2, 3, 4, 5, 6, 7, 8, 9, 10, 11, 12)   \n",
       "\n",
       "                                            cv_scores avg_score  \\\n",
       "1   [0.5105776182714135, 0.5582189701867164, 0.460...    0.5117   \n",
       "2   [0.6273470340408479, 0.6196588940131581, 0.502...  0.595175   \n",
       "3   [0.650718904385023, 0.6551950158210169, 0.5461...  0.641876   \n",
       "4   [0.6639573070541647, 0.6745827090626894, 0.573...  0.658268   \n",
       "5   [0.6821339028381262, 0.6931087344856537, 0.560...  0.672946   \n",
       "6   [0.6878675577193645, 0.6867884323038753, 0.565...   0.68145   \n",
       "7   [0.7073779618588076, 0.7021952442859825, 0.560...  0.689103   \n",
       "8   [0.7136162055751426, 0.7103513247754756, 0.570...  0.695514   \n",
       "9   [0.7225293092511473, 0.713513532737698, 0.5840...   0.70096   \n",
       "10  [0.7332217561791099, 0.7082579836450691, 0.575...  0.704533   \n",
       "11  [0.7412175937081463, 0.715106103987796, 0.5732...   0.70648   \n",
       "12  [0.7407489962244724, 0.7151588113858567, 0.572...  0.706245   \n",
       "13  [0.7411257145202399, 0.7157085282300105, 0.571...   0.70504   \n",
       "\n",
       "                                        feature_names  ci_bound   std_dev  \\\n",
       "1                                            (LSTAT,)  0.039979  0.031105   \n",
       "2                                         (RM, LSTAT)  0.060292  0.046909   \n",
       "3                                (RM, PTRATIO, LSTAT)  0.063392  0.049321   \n",
       "4                           (RM, DIS, PTRATIO, LSTAT)  0.055791  0.043407   \n",
       "5                        (RM, DIS, PTRATIO, B, LSTAT)  0.075499  0.058741   \n",
       "6                  (CHAS, RM, DIS, PTRATIO, B, LSTAT)  0.080021  0.062259   \n",
       "7             (CHAS, NOX, RM, DIS, PTRATIO, B, LSTAT)  0.085153  0.066252   \n",
       "8        (CHAS, NOX, RM, DIS, RAD, PTRATIO, B, LSTAT)  0.082191  0.063947   \n",
       "9   (CHAS, NOX, RM, DIS, RAD, TAX, PTRATIO, B, LSTAT)   0.07669  0.059667   \n",
       "10  (CRIM, CHAS, NOX, RM, DIS, RAD, TAX, PTRATIO, ...  0.087209  0.067851   \n",
       "11  (CRIM, ZN, CHAS, NOX, RM, DIS, RAD, TAX, PTRAT...  0.089991  0.070016   \n",
       "12  (CRIM, ZN, INDUS, CHAS, NOX, RM, DIS, RAD, TAX...  0.090302  0.070258   \n",
       "13  (CRIM, ZN, INDUS, CHAS, NOX, RM, AGE, DIS, RAD...  0.090403  0.070337   \n",
       "\n",
       "     std_err  \n",
       "1   0.015552  \n",
       "2   0.023454  \n",
       "3   0.024661  \n",
       "4   0.021704  \n",
       "5   0.029371  \n",
       "6   0.031129  \n",
       "7   0.033126  \n",
       "8   0.031974  \n",
       "9   0.029834  \n",
       "10  0.033926  \n",
       "11  0.035008  \n",
       "12  0.035129  \n",
       "13  0.035168  "
      ]
     },
     "execution_count": 139,
     "metadata": {},
     "output_type": "execute_result"
    }
   ],
   "source": [
    "metric_df = pd.DataFrame(sfs.get_metric_dict()).T\n",
    "metric_df"
   ]
  },
  {
   "cell_type": "code",
   "execution_count": 154,
   "id": "16fd3450",
   "metadata": {
    "scrolled": true
   },
   "outputs": [
    {
     "data": {
      "image/png": "[encoded data removed]",
      "text/plain": [
       "<Figure size 432x288 with 1 Axes>"
      ]
     },
     "metadata": {
      "needs_background": "light"
     },
     "output_type": "display_data"
    }
   ],
   "source": [
    "from mlxtend.plotting import plot_sequential_feature_selection as plot_sfs\n",
    "\n",
    "plot_sfs(sfs.get_metric_dict(),kind='ci') # we can print it for 'std_err' too.\n",
    "plt.title('Confidence interval using Backward Elimination')\n",
    "plt.show()"
   ]
  },
  {
   "cell_type": "code",
   "execution_count": 155,
   "id": "c7963f18",
   "metadata": {},
   "outputs": [],
   "source": [
    "x_train_trans = sfs.transform(x_train_scaled)\n",
    "x_test_trans = sfs.transform(x_test_scaled)"
   ]
  },
  {
   "cell_type": "code",
   "execution_count": 157,
   "id": "488b9767",
   "metadata": {},
   "outputs": [
    {
     "name": "stdout",
     "output_type": "stream",
     "text": [
      "training: 0.7064800467817652\n",
      "testing: 0.6801687887814346\n"
     ]
    }
   ],
   "source": [
    "print(f'training: {np.mean(cross_val_score(lr,x_train_trans,y_train,cv=5,scoring=\"r2\"))}')\n",
    "print(f'testing: {np.mean(cross_val_score(lr,x_test_trans,y_test,cv=5,scoring=\"r2\"))}')"
   ]
  },
  {
   "cell_type": "markdown",
   "id": "d64454e2",
   "metadata": {},
   "source": [
    "### Using Backward Elimination approach"
   ]
  },
  {
   "cell_type": "code",
   "execution_count": 164,
   "id": "30ff2cc9",
   "metadata": {},
   "outputs": [],
   "source": [
    "bfs = SFS(lr,k_features='best',forward=False,cv=5,scoring='r2')\n",
    "x_train_trans_by_bfs = bfs.fit_transform(x_train_scaled,y_train)\n",
    "x_test_trans_by_bfs = bfs.transform(x_test_scaled)"
   ]
  },
  {
   "cell_type": "code",
   "execution_count": 165,
   "id": "621e509f",
   "metadata": {},
   "outputs": [
    {
     "data": {
      "text/plain": [
       "0.7064800467817652"
      ]
     },
     "execution_count": 165,
     "metadata": {},
     "output_type": "execute_result"
    }
   ],
   "source": [
    "np.mean(cross_val_score(lr,x_train_trans_by_bfs,y_train,cv=5,scoring='r2'))"
   ]
  },
  {
   "cell_type": "code",
   "execution_count": 166,
   "id": "f5d6c09d",
   "metadata": {},
   "outputs": [
    {
     "data": {
      "text/plain": [
       "0.6801687887814346"
      ]
     },
     "execution_count": 166,
     "metadata": {},
     "output_type": "execute_result"
    }
   ],
   "source": [
    "np.mean(cross_val_score(lr,x_test_trans_by_bfs,y_test,cv=5,scoring='r2'))"
   ]
  },
  {
   "cell_type": "markdown",
   "id": "2de20378",
   "metadata": {},
   "source": [
    "### Although using backward or forward elimination approach our result drop a bit but its way better than not using any feature selection technique however its \n",
    "- Result is a bit bad then ExhaustiveFeatureSelector but forward and backward feature selection time complexity is much less than exhaustive which takes a long time to training on data"
   ]
  },
  {
   "cell_type": "code",
   "execution_count": null,
   "id": "0780abc5",
   "metadata": {},
   "outputs": [],
   "source": []
  }
 ],
 "metadata": {
  "kernelspec": {
   "display_name": "Python 3 (ipykernel)",
   "language": "python",
   "name": "python3"
  },
  "language_info": {
   "codemirror_mode": {
    "name": "ipython",
    "version": 3
   },
   "file_extension": ".py",
   "mimetype": "text/x-python",
   "name": "python",
   "nbconvert_exporter": "python",
   "pygments_lexer": "ipython3",
   "version": "3.10.0"
  }
 },
 "nbformat": 4,
 "nbformat_minor": 5
}
