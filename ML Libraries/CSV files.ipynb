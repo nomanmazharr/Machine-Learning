{
 "cells": [
  {
   "cell_type": "code",
   "execution_count": 1,
   "id": "b26df0a8",
   "metadata": {},
   "outputs": [],
   "source": [
    "import pandas as pd"
   ]
  },
  {
   "cell_type": "code",
   "execution_count": 2,
   "id": "a0ba5517",
   "metadata": {},
   "outputs": [],
   "source": [
    "a = pd.read_csv(\"abc.csv\") # for reading data from csv files "
   ]
  },
  {
   "cell_type": "code",
   "execution_count": 3,
   "id": "e43d13da",
   "metadata": {},
   "outputs": [
    {
     "data": {
      "text/html": [
       "<div>\n",
       "<style scoped>\n",
       "    .dataframe tbody tr th:only-of-type {\n",
       "        vertical-align: middle;\n",
       "    }\n",
       "\n",
       "    .dataframe tbody tr th {\n",
       "        vertical-align: top;\n",
       "    }\n",
       "\n",
       "    .dataframe thead th {\n",
       "        text-align: right;\n",
       "    }\n",
       "</style>\n",
       "<table border=\"1\" class=\"dataframe\">\n",
       "  <thead>\n",
       "    <tr style=\"text-align: right;\">\n",
       "      <th></th>\n",
       "      <th>Date</th>\n",
       "      <th>Open</th>\n",
       "      <th>High</th>\n",
       "      <th>Low</th>\n",
       "      <th>Close</th>\n",
       "      <th>Volume</th>\n",
       "    </tr>\n",
       "  </thead>\n",
       "  <tbody>\n",
       "    <tr>\n",
       "      <th>0</th>\n",
       "      <td>07/19/2022</td>\n",
       "      <td>40.13</td>\n",
       "      <td>41.21</td>\n",
       "      <td>40.13</td>\n",
       "      <td>41.11</td>\n",
       "      <td>73,122</td>\n",
       "    </tr>\n",
       "    <tr>\n",
       "      <th>1</th>\n",
       "      <td>07/18/2022</td>\n",
       "      <td>40.85</td>\n",
       "      <td>41.01</td>\n",
       "      <td>39.44</td>\n",
       "      <td>39.60</td>\n",
       "      <td>47,827</td>\n",
       "    </tr>\n",
       "    <tr>\n",
       "      <th>2</th>\n",
       "      <td>07/15/2022</td>\n",
       "      <td>39.98</td>\n",
       "      <td>40.87</td>\n",
       "      <td>39.68</td>\n",
       "      <td>40.39</td>\n",
       "      <td>65,794</td>\n",
       "    </tr>\n",
       "    <tr>\n",
       "      <th>3</th>\n",
       "      <td>07/14/2022</td>\n",
       "      <td>38.55</td>\n",
       "      <td>39.69</td>\n",
       "      <td>38.45</td>\n",
       "      <td>39.32</td>\n",
       "      <td>60,351</td>\n",
       "    </tr>\n",
       "    <tr>\n",
       "      <th>4</th>\n",
       "      <td>07/13/2022</td>\n",
       "      <td>39.00</td>\n",
       "      <td>39.34</td>\n",
       "      <td>38.68</td>\n",
       "      <td>39.08</td>\n",
       "      <td>70,223</td>\n",
       "    </tr>\n",
       "  </tbody>\n",
       "</table>\n",
       "</div>"
      ],
      "text/plain": [
       "         Date   Open   High    Low  Close  Volume\n",
       "0  07/19/2022  40.13  41.21  40.13  41.11  73,122\n",
       "1  07/18/2022  40.85  41.01  39.44  39.60  47,827\n",
       "2  07/15/2022  39.98  40.87  39.68  40.39  65,794\n",
       "3  07/14/2022  38.55  39.69  38.45  39.32  60,351\n",
       "4  07/13/2022  39.00  39.34  38.68  39.08  70,223"
      ]
     },
     "execution_count": 3,
     "metadata": {},
     "output_type": "execute_result"
    }
   ],
   "source": [
    "a.head(5) # we can perform multiple operation on that file as we have perform the head operation"
   ]
  },
  {
   "cell_type": "code",
   "execution_count": 4,
   "id": "7ef91b36",
   "metadata": {},
   "outputs": [
    {
     "data": {
      "text/plain": [
       "dtype('float64')"
      ]
     },
     "execution_count": 4,
     "metadata": {},
     "output_type": "execute_result"
    }
   ],
   "source": [
    "a[\"Open\"].dtype # for checking the type of elements in csv file"
   ]
  },
  {
   "cell_type": "code",
   "execution_count": 5,
   "id": "b792d87c",
   "metadata": {},
   "outputs": [
    {
     "name": "stdout",
     "output_type": "stream",
     "text": [
      "object\n"
     ]
    }
   ],
   "source": [
    "print(a['Date'].dtype)  # if datatype is not clearly or mean it is any sentences or words then the type is always object"
   ]
  },
  {
   "cell_type": "code",
   "execution_count": 6,
   "id": "91f50e40",
   "metadata": {},
   "outputs": [
    {
     "name": "stderr",
     "output_type": "stream",
     "text": [
      "C:\\python310\\lib\\site-packages\\IPython\\lib\\pretty.py:778: FutureWarning: Index.ravel returning ndarray is deprecated; in a future version this will return a view on self.\n",
      "  output = repr(obj)\n"
     ]
    },
    {
     "data": {
      "text/plain": [
       "0     40.13\n",
       "1     39.44\n",
       "2     39.68\n",
       "3     38.45\n",
       "4     38.68\n",
       "5     39.09\n",
       "6     39.25\n",
       "7     39.58\n",
       "8     39.74\n",
       "9     39.20\n",
       "10    38.95\n",
       "11    39.34\n",
       "12    37.83\n",
       "13    38.72\n",
       "14    39.32\n",
       "15    38.63\n",
       "16    37.64\n",
       "17    36.57\n",
       "18    36.50\n",
       "19    36.14\n",
       "Name: Low, dtype: category\n",
       "Categories (20, float64): [36.14, 36.50, 36.57, 37.64, ..., 39.58, 39.68, 39.74, 40.13]"
      ]
     },
     "execution_count": 6,
     "metadata": {},
     "output_type": "execute_result"
    }
   ],
   "source": [
    "a['Low'].astype('category') # for getting data into the category"
   ]
  },
  {
   "cell_type": "code",
   "execution_count": 7,
   "id": "d7bdf6b6",
   "metadata": {},
   "outputs": [
    {
     "data": {
      "text/plain": [
       "0     41.21\n",
       "1     41.01\n",
       "2     40.87\n",
       "3     39.69\n",
       "4     39.34\n",
       "5     39.76\n",
       "6     40.10\n",
       "7     40.18\n",
       "8     40.35\n",
       "9     40.22\n",
       "10    40.01\n",
       "11    40.31\n",
       "12    39.65\n",
       "13    39.43\n",
       "14    40.63\n",
       "15    39.98\n",
       "16    39.40\n",
       "17    37.57\n",
       "18    37.62\n",
       "19    37.76\n",
       "Name: High, dtype: float64"
      ]
     },
     "execution_count": 7,
     "metadata": {},
     "output_type": "execute_result"
    }
   ],
   "source": [
    "a['High'] # for printing single line from data"
   ]
  },
  {
   "cell_type": "code",
   "execution_count": 8,
   "id": "6ea84897",
   "metadata": {},
   "outputs": [],
   "source": [
    "# we can perform multiple operations here above are only some of the simples"
   ]
  },
  {
   "cell_type": "code",
   "execution_count": 9,
   "id": "f7907f14",
   "metadata": {},
   "outputs": [],
   "source": [
    "data1 = pd.DataFrame([[1,2,3,4,5], [21,32,43,54,65], [12,34,545,66,75], [9,87,56,67,87], [98,78,69,87,45]])"
   ]
  },
  {
   "cell_type": "code",
   "execution_count": 10,
   "id": "bcd8ba63",
   "metadata": {},
   "outputs": [
    {
     "data": {
      "text/html": [
       "<div>\n",
       "<style scoped>\n",
       "    .dataframe tbody tr th:only-of-type {\n",
       "        vertical-align: middle;\n",
       "    }\n",
       "\n",
       "    .dataframe tbody tr th {\n",
       "        vertical-align: top;\n",
       "    }\n",
       "\n",
       "    .dataframe thead th {\n",
       "        text-align: right;\n",
       "    }\n",
       "</style>\n",
       "<table border=\"1\" class=\"dataframe\">\n",
       "  <thead>\n",
       "    <tr style=\"text-align: right;\">\n",
       "      <th></th>\n",
       "      <th>0</th>\n",
       "      <th>1</th>\n",
       "      <th>2</th>\n",
       "      <th>3</th>\n",
       "      <th>4</th>\n",
       "    </tr>\n",
       "  </thead>\n",
       "  <tbody>\n",
       "    <tr>\n",
       "      <th>0</th>\n",
       "      <td>1</td>\n",
       "      <td>2</td>\n",
       "      <td>3</td>\n",
       "      <td>4</td>\n",
       "      <td>5</td>\n",
       "    </tr>\n",
       "    <tr>\n",
       "      <th>1</th>\n",
       "      <td>21</td>\n",
       "      <td>32</td>\n",
       "      <td>43</td>\n",
       "      <td>54</td>\n",
       "      <td>65</td>\n",
       "    </tr>\n",
       "    <tr>\n",
       "      <th>2</th>\n",
       "      <td>12</td>\n",
       "      <td>34</td>\n",
       "      <td>545</td>\n",
       "      <td>66</td>\n",
       "      <td>75</td>\n",
       "    </tr>\n",
       "    <tr>\n",
       "      <th>3</th>\n",
       "      <td>9</td>\n",
       "      <td>87</td>\n",
       "      <td>56</td>\n",
       "      <td>67</td>\n",
       "      <td>87</td>\n",
       "    </tr>\n",
       "    <tr>\n",
       "      <th>4</th>\n",
       "      <td>98</td>\n",
       "      <td>78</td>\n",
       "      <td>69</td>\n",
       "      <td>87</td>\n",
       "      <td>45</td>\n",
       "    </tr>\n",
       "  </tbody>\n",
       "</table>\n",
       "</div>"
      ],
      "text/plain": [
       "    0   1    2   3   4\n",
       "0   1   2    3   4   5\n",
       "1  21  32   43  54  65\n",
       "2  12  34  545  66  75\n",
       "3   9  87   56  67  87\n",
       "4  98  78   69  87  45"
      ]
     },
     "execution_count": 10,
     "metadata": {},
     "output_type": "execute_result"
    }
   ],
   "source": [
    "data1"
   ]
  },
  {
   "cell_type": "code",
   "execution_count": 11,
   "id": "74c3c6b2",
   "metadata": {},
   "outputs": [],
   "source": [
    "data1.to_csv('xyz.csv') # for writing data into a csv file"
   ]
  },
  {
   "cell_type": "code",
   "execution_count": 12,
   "id": "b51c4363",
   "metadata": {},
   "outputs": [],
   "source": [
    "data2 = pd.DataFrame([[1,2,3,4,5], [21,32,43,54,65], [12,34,545,66,75], [9,87,56,67,87], [98,78,69,87,45]], columns=['A','B','C','D','E'])"
   ]
  },
  {
   "cell_type": "code",
   "execution_count": 13,
   "id": "ea98397f",
   "metadata": {},
   "outputs": [],
   "source": [
    "data2.to_csv('colfile.csv', index=False)  # for removing the index that comes into first line of files"
   ]
  },
  {
   "cell_type": "code",
   "execution_count": null,
   "id": "c21a7d04",
   "metadata": {},
   "outputs": [],
   "source": [
    " "
   ]
  }
 ],
 "metadata": {
  "kernelspec": {
   "display_name": "Python 3 (ipykernel)",
   "language": "python",
   "name": "python3"
  },
  "language_info": {
   "codemirror_mode": {
    "name": "ipython",
    "version": 3
   },
   "file_extension": ".py",
   "mimetype": "text/x-python",
   "name": "python",
   "nbconvert_exporter": "python",
   "pygments_lexer": "ipython3",
   "version": "3.10.0"
  }
 },
 "nbformat": 4,
 "nbformat_minor": 5
}
