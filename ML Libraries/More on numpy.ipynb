{
 "cells": [
  {
   "cell_type": "code",
   "execution_count": 1,
   "id": "e222604d",
   "metadata": {},
   "outputs": [],
   "source": [
    "import numpy as np"
   ]
  },
  {
   "cell_type": "code",
   "execution_count": 2,
   "id": "f45014b1",
   "metadata": {},
   "outputs": [],
   "source": [
    "a = np.array([23,45,66,28,14,30,8,99])  # for writing an array"
   ]
  },
  {
   "cell_type": "code",
   "execution_count": 3,
   "id": "82b4637b",
   "metadata": {},
   "outputs": [
    {
     "data": {
      "text/plain": [
       "array([23, 45, 66, 28, 14, 30,  8, 99])"
      ]
     },
     "execution_count": 3,
     "metadata": {},
     "output_type": "execute_result"
    }
   ],
   "source": [
    "a"
   ]
  },
  {
   "cell_type": "code",
   "execution_count": 4,
   "id": "c1d6756a",
   "metadata": {},
   "outputs": [],
   "source": [
    "b = a[2:6]  # for slicing an array if we slice simply like this and make changes like in next step then we change parent array,"
   ]
  },
  {
   "cell_type": "code",
   "execution_count": 5,
   "id": "bd31c92e",
   "metadata": {},
   "outputs": [],
   "source": [
    "b[0]= 4"
   ]
  },
  {
   "cell_type": "code",
   "execution_count": 6,
   "id": "2e79d879",
   "metadata": {},
   "outputs": [
    {
     "data": {
      "text/plain": [
       "array([23, 45,  4, 28, 14, 30,  8, 99])"
      ]
     },
     "execution_count": 6,
     "metadata": {},
     "output_type": "execute_result"
    }
   ],
   "source": [
    "a  # that's why we take copy during slicing of parent array so that it will not affect parent when we make changes "
   ]
  },
  {
   "cell_type": "code",
   "execution_count": 7,
   "id": "d42f097f",
   "metadata": {},
   "outputs": [],
   "source": [
    "c = np.array([34,65,6,234,324,23,2,56])"
   ]
  },
  {
   "cell_type": "code",
   "execution_count": 8,
   "id": "8381f93b",
   "metadata": {},
   "outputs": [],
   "source": [
    "d = c[3:7].copy() # if we write our slice part of array like this then if we made change it will not affect parent"
   ]
  },
  {
   "cell_type": "code",
   "execution_count": 9,
   "id": "4eaad8a8",
   "metadata": {},
   "outputs": [],
   "source": [
    "d[2]= 0 # will only affect d var"
   ]
  },
  {
   "cell_type": "code",
   "execution_count": 10,
   "id": "94f762ed",
   "metadata": {},
   "outputs": [
    {
     "data": {
      "text/plain": [
       "array([234, 324,   0,   2])"
      ]
     },
     "execution_count": 10,
     "metadata": {},
     "output_type": "execute_result"
    }
   ],
   "source": [
    "d # changes are only in d"
   ]
  },
  {
   "cell_type": "code",
   "execution_count": 11,
   "id": "f7d8b2ec",
   "metadata": {},
   "outputs": [
    {
     "data": {
      "text/plain": [
       "array([ 34,  65,   6, 234, 324,  23,   2,  56])"
      ]
     },
     "execution_count": 11,
     "metadata": {},
     "output_type": "execute_result"
    }
   ],
   "source": [
    "c # it is not affected by changes in d"
   ]
  },
  {
   "cell_type": "code",
   "execution_count": 12,
   "id": "833bbc37",
   "metadata": {},
   "outputs": [],
   "source": [
    "c.sort() # for sorting the array in increasing format"
   ]
  },
  {
   "cell_type": "code",
   "execution_count": 13,
   "id": "7a7b572f",
   "metadata": {},
   "outputs": [
    {
     "data": {
      "text/plain": [
       "array([  2,   6,  23,  34,  56,  65, 234, 324])"
      ]
     },
     "execution_count": 13,
     "metadata": {},
     "output_type": "execute_result"
    }
   ],
   "source": [
    "c"
   ]
  },
  {
   "cell_type": "code",
   "execution_count": 14,
   "id": "3d4f1452",
   "metadata": {},
   "outputs": [],
   "source": [
    "arr = np.array([[11,21,3],[41,53,6], [17,28,9]])"
   ]
  },
  {
   "cell_type": "code",
   "execution_count": 15,
   "id": "7beaedf5",
   "metadata": {},
   "outputs": [
    {
     "data": {
      "text/plain": [
       "array([[11, 21,  3],\n",
       "       [41, 53,  6],\n",
       "       [17, 28,  9]])"
      ]
     },
     "execution_count": 15,
     "metadata": {},
     "output_type": "execute_result"
    }
   ],
   "source": [
    "arr"
   ]
  },
  {
   "cell_type": "code",
   "execution_count": 16,
   "id": "b5efc3ca",
   "metadata": {},
   "outputs": [],
   "source": [
    "arr.sort(axis=0) # for sorting the array in axis. Axis 0 is used for cols and Axis 1 used for rows."
   ]
  },
  {
   "cell_type": "code",
   "execution_count": 17,
   "id": "f3cf98bf",
   "metadata": {},
   "outputs": [
    {
     "data": {
      "text/plain": [
       "array([[11, 21,  3],\n",
       "       [17, 28,  6],\n",
       "       [41, 53,  9]])"
      ]
     },
     "execution_count": 17,
     "metadata": {},
     "output_type": "execute_result"
    }
   ],
   "source": [
    "arr"
   ]
  },
  {
   "cell_type": "code",
   "execution_count": 18,
   "id": "fe8df926",
   "metadata": {},
   "outputs": [],
   "source": [
    "arr.sort(axis=1)"
   ]
  },
  {
   "cell_type": "code",
   "execution_count": 19,
   "id": "56742daf",
   "metadata": {},
   "outputs": [
    {
     "data": {
      "text/plain": [
       "array([[ 3, 11, 21],\n",
       "       [ 6, 17, 28],\n",
       "       [ 9, 41, 53]])"
      ]
     },
     "execution_count": 19,
     "metadata": {},
     "output_type": "execute_result"
    }
   ],
   "source": [
    "arr"
   ]
  },
  {
   "cell_type": "code",
   "execution_count": 20,
   "id": "0d18db96",
   "metadata": {},
   "outputs": [],
   "source": [
    "arr1 = np.array([1,2,3])"
   ]
  },
  {
   "cell_type": "code",
   "execution_count": 21,
   "id": "e4d98cba",
   "metadata": {},
   "outputs": [],
   "source": [
    "arr2 = np.array([4,5,6])"
   ]
  },
  {
   "cell_type": "code",
   "execution_count": 22,
   "id": "d0d4e653",
   "metadata": {},
   "outputs": [
    {
     "data": {
      "text/plain": [
       "32"
      ]
     },
     "execution_count": 22,
     "metadata": {},
     "output_type": "execute_result"
    }
   ],
   "source": [
    "np.dot(arr1,arr2)  # gives us dot product if we get error sometimes for multidimensional its bcs of there transpose"
   ]
  },
  {
   "cell_type": "code",
   "execution_count": 23,
   "id": "5a03d1c5",
   "metadata": {},
   "outputs": [
    {
     "data": {
      "text/plain": [
       "array([-3,  6, -3])"
      ]
     },
     "execution_count": 23,
     "metadata": {},
     "output_type": "execute_result"
    }
   ],
   "source": [
    "np.cross(arr1,arr2)  # for cross product"
   ]
  },
  {
   "cell_type": "code",
   "execution_count": 24,
   "id": "4e011d19",
   "metadata": {},
   "outputs": [],
   "source": [
    "arr4 = np.array([[12,53,40], [40,243,23]])"
   ]
  },
  {
   "cell_type": "code",
   "execution_count": 25,
   "id": "1daa3856",
   "metadata": {},
   "outputs": [
    {
     "name": "stdout",
     "output_type": "stream",
     "text": [
      "CPU times: total: 0 ns\n",
      "Wall time: 0 ns\n"
     ]
    },
    {
     "data": {
      "text/plain": [
       "array([[ 1459,  3276],\n",
       "       [ 2093,  5015],\n",
       "       [ 4401, 11542]])"
      ]
     },
     "execution_count": 25,
     "metadata": {},
     "output_type": "execute_result"
    }
   ],
   "source": [
    "%time np.dot(arr, arr4.transpose())"
   ]
  },
  {
   "cell_type": "code",
   "execution_count": 26,
   "id": "0afe1be1",
   "metadata": {},
   "outputs": [],
   "source": [
    "arr4.sort(kind= \"heapsort\")"
   ]
  },
  {
   "cell_type": "code",
   "execution_count": 27,
   "id": "d7a94909",
   "metadata": {},
   "outputs": [
    {
     "data": {
      "text/plain": [
       "array([[ 12,  40,  53],\n",
       "       [ 23,  40, 243]])"
      ]
     },
     "execution_count": 27,
     "metadata": {},
     "output_type": "execute_result"
    }
   ],
   "source": [
    "arr4"
   ]
  },
  {
   "cell_type": "code",
   "execution_count": 28,
   "id": "f818f34a",
   "metadata": {},
   "outputs": [],
   "source": [
    "arr5 = np.array([1,5434,64,3,6,2,6,77,8,2,4,34,645,1])"
   ]
  },
  {
   "cell_type": "code",
   "execution_count": 29,
   "id": "a695a01a",
   "metadata": {},
   "outputs": [
    {
     "data": {
      "text/plain": [
       "array([ 0, 13,  5,  9,  3, 10,  4,  6,  8, 11,  2,  7, 12,  1],\n",
       "      dtype=int64)"
      ]
     },
     "execution_count": 29,
     "metadata": {},
     "output_type": "execute_result"
    }
   ],
   "source": [
    "arr5.argsort()  # will tells us how elements are showing mean there index will be given"
   ]
  },
  {
   "cell_type": "code",
   "execution_count": 30,
   "id": "57acaef2",
   "metadata": {},
   "outputs": [
    {
     "data": {
      "text/plain": [
       "1"
      ]
     },
     "execution_count": 30,
     "metadata": {},
     "output_type": "execute_result"
    }
   ],
   "source": [
    "arr5.argmax()  # will gives us index of max element"
   ]
  },
  {
   "cell_type": "code",
   "execution_count": 31,
   "id": "c6b43596",
   "metadata": {},
   "outputs": [
    {
     "data": {
      "text/plain": [
       "0"
      ]
     },
     "execution_count": 31,
     "metadata": {},
     "output_type": "execute_result"
    }
   ],
   "source": [
    "arr5.argmin()  # will gives us index of min element"
   ]
  },
  {
   "cell_type": "code",
   "execution_count": 32,
   "id": "583d263e",
   "metadata": {},
   "outputs": [
    {
     "data": {
      "text/plain": [
       "(14,)"
      ]
     },
     "execution_count": 32,
     "metadata": {},
     "output_type": "execute_result"
    }
   ],
   "source": [
    "arr5.shape"
   ]
  },
  {
   "cell_type": "code",
   "execution_count": 33,
   "id": "a809457f",
   "metadata": {},
   "outputs": [],
   "source": [
    "array = arr5.reshape(7,2)  # will reshape the array in given rows and cols"
   ]
  },
  {
   "cell_type": "code",
   "execution_count": 34,
   "id": "64166b41",
   "metadata": {},
   "outputs": [
    {
     "data": {
      "text/plain": [
       "array([[   1, 5434],\n",
       "       [  64,    3],\n",
       "       [   6,    2],\n",
       "       [   6,   77],\n",
       "       [   8,    2],\n",
       "       [   4,   34],\n",
       "       [ 645,    1]])"
      ]
     },
     "execution_count": 34,
     "metadata": {},
     "output_type": "execute_result"
    }
   ],
   "source": [
    "array"
   ]
  },
  {
   "cell_type": "code",
   "execution_count": 35,
   "id": "e6899403",
   "metadata": {},
   "outputs": [
    {
     "data": {
      "text/plain": [
       "array([[0, 6],\n",
       "       [5, 2],\n",
       "       [2, 4],\n",
       "       [3, 1],\n",
       "       [4, 5],\n",
       "       [1, 3],\n",
       "       [6, 0]], dtype=int64)"
      ]
     },
     "execution_count": 35,
     "metadata": {},
     "output_type": "execute_result"
    }
   ],
   "source": [
    "array.argsort(axis=0)"
   ]
  },
  {
   "cell_type": "code",
   "execution_count": null,
   "id": "051f7e7b",
   "metadata": {},
   "outputs": [],
   "source": []
  }
 ],
 "metadata": {
  "kernelspec": {
   "display_name": "Python 3 (ipykernel)",
   "language": "python",
   "name": "python3"
  },
  "language_info": {
   "codemirror_mode": {
    "name": "ipython",
    "version": 3
   },
   "file_extension": ".py",
   "mimetype": "text/x-python",
   "name": "python",
   "nbconvert_exporter": "python",
   "pygments_lexer": "ipython3",
   "version": "3.10.0"
  }
 },
 "nbformat": 4,
 "nbformat_minor": 5
}
